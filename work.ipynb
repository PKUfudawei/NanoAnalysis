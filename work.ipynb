{
 "cells": [
  {
   "cell_type": "code",
   "execution_count": 19,
   "id": "efa04555",
   "metadata": {},
   "outputs": [],
   "source": [
    "import os, json, yaml\n",
    "from glob import glob\n",
    "from collections import OrderedDict"
   ]
  },
  {
   "cell_type": "code",
   "execution_count": 9,
   "id": "d4bc9b33",
   "metadata": {},
   "outputs": [],
   "source": [
    "records = {}"
   ]
  },
  {
   "cell_type": "code",
   "execution_count": 34,
   "id": "43a2559a",
   "metadata": {},
   "outputs": [],
   "source": [
    "KEYS = ['process_name',\n",
    " 'cross_section',\n",
    " 'total_uncertainty',\n",
    " 'DAS',\n",
    " 'MCM',\n",
    " 'equivalent_lumi',\n",
    " 'accuracy',\n",
    " 'fraction_negative_weight',\n",
    " 'shower',\n",
    " 'matrix_generator',\n",
    " 'energy',\n",
    " 'comments']"
   ]
  },
  {
   "cell_type": "code",
   "execution_count": 28,
   "id": "29f75f1b",
   "metadata": {},
   "outputs": [],
   "source": [
    "def key_order(key):\n",
    "    priority = {\n",
    "        \"process_name\": 1,\n",
    "        \"cross_section\": 2,\n",
    "        \"total_uncertainty\": 3,\n",
    "        \"DAS\": 4,\n",
    "        \"MCM\": 5,\n",
    "        \"equivalent_lumi\": 6,\n",
    "        \"accuracy\": 7,\n",
    "        \"fraction_negative_weight\": 8,\n",
    "        \"shower\": 9,\n",
    "        \"matrix_generator\": 10,\n",
    "        \"energy\": 11,\n",
    "        \"comments\": 12\n",
    "    }\n",
    "    return priority.get(key, 999)\n",
    "\n",
    "# 表示器类\n",
    "class OrderedDumper(yaml.Dumper):\n",
    "    pass\n",
    "\n",
    "# 重写字典的表示方法\n",
    "def _dict_representer(dumper, data):\n",
    "    return dumper.represent_mapping(\n",
    "        yaml.resolver.BaseResolver.DEFAULT_MAPPING_TAG,\n",
    "        data.items(),\n",
    "        flow_style=False\n",
    "    )\n",
    "\n",
    "OrderedDumper.add_representer(OrderedDict, _dict_representer)\n",
    "\n",
    "# 递归排序函数\n",
    "def sort_dict(d, key_order_func):\n",
    "    if not isinstance(d, dict):\n",
    "        return d\n",
    "    \n",
    "    sorted_dict = OrderedDict()\n",
    "    for key in sorted(d.keys(), key=key_order_func):\n",
    "        sorted_dict[key] = sort_dict(d[key], key_order_func)\n",
    "    \n",
    "    return sorted_dict"
   ]
  },
  {
   "cell_type": "code",
   "execution_count": 36,
   "id": "767a2a1d",
   "metadata": {},
   "outputs": [],
   "source": [
    "for f in glob('/afs/cern.ch/user/d/dfu/xsecdb/scripts/xsec_calc_auto/json_bak/QCD_Bin-PT*TuneCP5_13p6TeV*.json'):\n",
    "    with open(f, 'r') as file:\n",
    "        content = file.read()\n",
    "    process_name = f.split('/')[-1].split('.')[0]\n",
    "    data = json.loads(content)['records'][0]\n",
    "    \n",
    "    sorted_data = sort_dict(data, key_order)\n",
    "    with open(f'{process_name}.txt', 'w') as f:\n",
    "        f.write('\\n'.join([str(data[k]) for k in KEYS]))"
   ]
  },
  {
   "cell_type": "code",
   "execution_count": null,
   "id": "63c790c4",
   "metadata": {},
   "outputs": [],
   "source": []
  }
 ],
 "metadata": {
  "kernelspec": {
   "display_name": "Python 3",
   "language": "python",
   "name": "python3"
  },
  "language_info": {
   "codemirror_mode": {
    "name": "ipython",
    "version": 3
   },
   "file_extension": ".py",
   "mimetype": "text/x-python",
   "name": "python",
   "nbconvert_exporter": "python",
   "pygments_lexer": "ipython3",
   "version": "3.9.14"
  }
 },
 "nbformat": 4,
 "nbformat_minor": 5
}
