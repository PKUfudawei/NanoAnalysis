{
 "cells": [
  {
   "cell_type": "code",
   "execution_count": 2,
   "metadata": {},
   "outputs": [
    {
     "name": "stdout",
     "output_type": "stream",
     "text": [
      "Welcome to JupyROOT 6.30/07\n"
     ]
    }
   ],
   "source": [
    "import ROOT"
   ]
  },
  {
   "cell_type": "code",
   "execution_count": 1,
   "metadata": {},
   "outputs": [],
   "source": [
    "CR_cut = f\"\"\"(\n",
    "    (((jet_mass>50) & (jet_mass<80)) | (jet_mass>150)) & \n",
    "    (tagger>0.8) & (tagger<0.98)\n",
    ")\"\"\""
   ]
  },
  {
   "cell_type": "code",
   "execution_count": 32,
   "metadata": {},
   "outputs": [
    {
     "name": "stdout",
     "output_type": "stream",
     "text": [
      "[#1] INFO:DataHandling -- RooAbsReal::attachToTree(fit_mass) TTree Float_t branch fit_mass will be converted to double precision.\n",
      "[#1] INFO:DataHandling -- RooAbsReal::attachToTree(weight) TTree Float_t branch weight will be converted to double precision.\n",
      "[#1] INFO:DataHandling -- RooAbsReal::attachToTree(jet_mass) TTree Float_t branch jet_mass will be converted to double precision.\n",
      "[#1] INFO:DataHandling -- RooAbsReal::attachToTree(tagger) TTree Float_t branch tagger will be converted to double precision.\n",
      "[#1] INFO:DataHandling -- RooTreeDataStore::loadValues(data_CR) Skipping event #0 because fit_mass cannot accommodate the value 643.904\n",
      "[#1] INFO:DataHandling -- RooTreeDataStore::loadValues(data_CR) Skipping event #1 because fit_mass cannot accommodate the value 548.344\n",
      "[#1] INFO:DataHandling -- RooTreeDataStore::loadValues(data_CR) Skipping event #4 because fit_mass cannot accommodate the value 542.411\n",
      "[#1] INFO:DataHandling -- RooTreeDataStore::loadValues(data_CR) Skipping event #5 because fit_mass cannot accommodate the value 570.831\n",
      "[#1] INFO:DataHandling -- RooTreeDataStore::loadValues(data_CR) Skipping ...\n",
      "[#0] WARNING:DataHandling -- RooTreeDataStore::loadValues(data_CR) Ignored 251571 out-of-range events\n",
      "[#1] INFO:NumericIntegration -- RooRealIntegral::init(model_background_expow1_Int[fit_mass]) using numeric integrator RooRombergIntegrator to calculate Int(fit_mass)\n",
      "[#1] INFO:Minimization -- RooAbsMinimizerFcn::setOptimizeConst: activating const optimization\n",
      "Minuit2Minimizer: Minimize with max-calls 500 convergence for edm < 1 strategy 1\n",
      "Minuit2Minimizer : Valid minimum - status = 0\n",
      "FVAL  = 5422.02511268829949\n",
      "Edm   = 8.46096587173678646e-08\n",
      "Nfcn  = 28\n",
      "p1\t  = -4.44875\t +/-  0.120347\t(limited)\n",
      "[#1] INFO:Fitting -- RooAbsPdf::fitTo(model_background_expow1) Calculating sum-of-weights-squared correction matrix for covariance matrix\n",
      "[#1] INFO:Minimization -- RooAbsMinimizerFcn::setOptimizeConst: deactivating const optimization\n"
     ]
    },
    {
     "name": "stderr",
     "output_type": "stream",
     "text": [
      "Info in <Minuit2>: MnSeedGenerator Computing seed using NumericalGradient calculator\n",
      "Info in <Minuit2>: MnSeedGenerator Initial state: FCN =       6712.079068 Edm =      -77.60790577 NCalls =      5\n",
      "Info in <Minuit2>: NegativeG2LineSearch Doing a NegativeG2LineSearch since one of the G2 component is negative\n",
      "Info in <Minuit2>: MnSeedGenerator Negative G2 found - new state: \n",
      "  Minimum value : 5501.880181\n",
      "  Edm           : 72.69037221\n",
      "  Internal parameters:\t[     0.3932614751]\t\n",
      "  Internal gradient  :\t[      603.5505888]\t\n",
      "  Internal covariance matrix:\n",
      "[[  0.00079819597]]]\n",
      "Info in <Minuit2>: MnSeedGenerator Initial state  \n",
      "  Minimum value : 5501.880181\n",
      "  Edm           : 72.69037221\n",
      "  Internal parameters:\t[     0.3932614751]\t\n",
      "  Internal gradient  :\t[      603.5505888]\t\n",
      "  Internal covariance matrix:\n",
      "[[  0.00079819597]]]\n",
      "Info in <Minuit2>: VariableMetricBuilder Start iterating until Edm is < 0.001 with call limit = 500\n",
      "Info in <Minuit2>: VariableMetricBuilder    0 - FCN =       5501.880181 Edm =       72.69037221 NCalls =     14\n",
      "Info in <Minuit2>: VariableMetricBuilder    1 - FCN =       5422.044209 Edm =     0.01306904285 NCalls =     19\n",
      "Info in <Minuit2>: VariableMetricBuilder    2 - FCN =       5422.025113 Edm =   7.343195184e-08 NCalls =     23\n",
      "Info in <Minuit2>: VariableMetricBuilder After Hessian\n",
      "Info in <Minuit2>: VariableMetricBuilder    3 - FCN =       5422.025113 Edm =   8.460965872e-08 NCalls =     28\n",
      "Info in <Minuit2>: Minuit2Minimizer::Hesse Using max-calls 500\n",
      "Info in <Minuit2>: Minuit2Minimizer::Hesse Hesse is valid - matrix is accurate\n",
      "Info in <Minuit2>: Minuit2Minimizer::Hesse Using max-calls 500\n",
      "Info in <Minuit2>: Minuit2Minimizer::Hesse Hesse is valid - matrix is accurate\n"
     ]
    }
   ],
   "source": [
    "\n",
    "\n",
    "f = ROOT.TFile(f\"input/Run2/data.root\", \"r\")\n",
    "tree = f.Get(\"Events\")\n",
    "fit_mass = ROOT.RooRealVar(\"fit_mass\", \"fit_mass\", 1500, 650, 4000)\n",
    "weight = ROOT.RooRealVar(\"weight\", \"weight\", 1, -10, 10)\n",
    "jet_mass = ROOT.RooRealVar(\"jet_mass\", \"jet_mass\", 125, 0, 999)\n",
    "tagger = ROOT.RooRealVar(\"tagger\", \"tagger\", 0, 0, 2)\n",
    "data_region = ROOT.RooDataSet(f\"data_CR\", f\"data_CR\", tree, ROOT.RooArgSet(fit_mass, weight, jet_mass, tagger), CR_cut, \"weight\")\n",
    "p1 = ROOT.RooRealVar(\"p1\", \"p1\", -0.1, -10, 0)\n",
    "model = ROOT.RooGenericPdf(\"model_background_expow1\", \"model_background_expow1\", \"TMath::Power(@0, @1)\", ROOT.RooArgList(fit_mass, p1))\n",
    "result = model.fitTo(data_region, ROOT.RooFit.SumW2Error(True), Save=True)\n",
    "p1.setConstant(True)\n",
    "bkg_component = ROOT.RooArgSet(model)"
   ]
  },
  {
   "cell_type": "code",
   "execution_count": 31,
   "metadata": {},
   "outputs": [
    {
     "name": "stdout",
     "output_type": "stream",
     "text": [
      "[#1] INFO:Plotting -- RooAbsPdf::plotOn(model_background_expow1) only plotting range 'Full'\n",
      "[#1] INFO:Plotting -- RooAbsPdf::plotOn(model_background_expow1) p.d.f. curve is normalized using explicit choice of ranges 'Full'\n",
      "[#1] INFO:Plotting -- RooAbsPdf::plotOn(model_background_expow1) directly selected PDF components: (model_background_expow1)\n",
      "[#1] INFO:Plotting -- RooAbsPdf::plotOn(model_background_expow1) indirectly selected PDF components: ()\n",
      "[#1] INFO:NumericIntegration -- RooRealIntegral::init(model_background_expow1_Int[fit_mass]) using numeric integrator RooRombergIntegrator to calculate Int(fit_mass)\n",
      "[#1] INFO:NumericIntegration -- RooRealIntegral::init(model_background_expow1_Int[fit_mass|Full]_Norm[fit_mass]) using numeric integrator RooRombergIntegrator to calculate Int(fit_mass)\n",
      "[#0] WARNING:Plotting -- Fill color or style was set for plotting \"model_background_expow1\", but these only have an effect when 'DrawOption(\"F\")' for fill is used at the same time.\n",
      "[#1] INFO:Plotting -- RooAbsPdf::plotOn(model_background_expow1) only plotting range 'Full'\n",
      "[#1] INFO:Plotting -- RooAbsPdf::plotOn(model_background_expow1) p.d.f. curve is normalized using explicit choice of ranges 'Full'\n",
      "[#1] INFO:Plotting -- RooAbsPdf::plotOn(model_background_expow1) directly selected PDF components: (model_background_expow1)\n",
      "[#1] INFO:Plotting -- RooAbsPdf::plotOn(model_background_expow1) indirectly selected PDF components: ()\n",
      "[#1] INFO:NumericIntegration -- RooRealIntegral::init(model_background_expow1_Int[fit_mass]) using numeric integrator RooRombergIntegrator to calculate Int(fit_mass)\n",
      "[#1] INFO:NumericIntegration -- RooRealIntegral::init(model_background_expow1_Int[fit_mass|Full]_Norm[fit_mass]) using numeric integrator RooRombergIntegrator to calculate Int(fit_mass)\n"
     ]
    },
    {
     "name": "stderr",
     "output_type": "stream",
     "text": [
      "Info in <TCanvas::Print>: pdf file ./test.pdf has been created\n"
     ]
    }
   ],
   "source": [
    "canvas = ROOT.TCanvas()\n",
    "xframe = fit_mass.frame(650, 3000)\n",
    "data_region.plotOn(xframe)\n",
    "model.plotOn(xframe, ROOT.RooFit.VisualizeError(result, 1, True), ROOT.RooFit.Components(bkg_component), ROOT.RooFit.Name(\"errorband\"), ROOT.RooFit.FillColor(ROOT.kOrange), ROOT.RooFit.Range(\"Full\"), ROOT.RooFit.NormRange(\"Full\"))\n",
    "data_region.plotOn(xframe, ROOT.RooFit.Name(\"data\"))\n",
    "model.plotOn(xframe,ROOT.RooFit.LineColor(3),ROOT.RooFit.Components(bkg_component), ROOT.RooFit.Name(\"bkg\"), ROOT.RooFit.LineStyle(2), ROOT.RooFit.Range(\"Full\"), ROOT.RooFit.NormRange(\"Full\"))\n",
    "xframe.Draw()\n",
    "canvas.SaveAs('./test.pdf')"
   ]
  },
  {
   "cell_type": "code",
   "execution_count": 43,
   "metadata": {},
   "outputs": [
    {
     "data": {
      "text/plain": [
       "<cppyy.gbl.TVirtualPad* object at 0xbd0b2f0>"
      ]
     },
     "execution_count": 43,
     "metadata": {},
     "output_type": "execute_result"
    }
   ],
   "source": []
  },
  {
   "cell_type": "code",
   "execution_count": 48,
   "metadata": {},
   "outputs": [
    {
     "name": "stdout",
     "output_type": "stream",
     "text": [
      "[#1] INFO:NumericIntegration -- RooRealIntegral::init(model_background_expow1_Int[fit_mass]) using numeric integrator RooRombergIntegrator to calculate Int(fit_mass)\n",
      "[#1] INFO:Plotting -- RooAbsPdf::plotOn(model_background_expow1) directly selected PDF components: (model_background_expow1)\n",
      "[#1] INFO:Plotting -- RooAbsPdf::plotOn(model_background_expow1) indirectly selected PDF components: ()\n",
      "[#1] INFO:NumericIntegration -- RooRealIntegral::init(model_background_expow1_Int[fit_mass]) using numeric integrator RooRombergIntegrator to calculate Int(fit_mass)\n",
      "[#1] INFO:NumericIntegration -- RooRealIntegral::init(model_background_expow1_Int[fit_mass]) using numeric integrator RooRombergIntegrator to calculate Int(fit_mass)\n",
      "[#1] INFO:NumericIntegration -- RooRealIntegral::init(model_background_expow1_Int[fit_mass]) using numeric integrator RooRombergIntegrator to calculate Int(fit_mass)\n",
      "[#1] INFO:NumericIntegration -- RooRealIntegral::init(model_background_expow1_Int[fit_mass]) using numeric integrator RooRombergIntegrator to calculate Int(fit_mass)\n",
      "[#1] INFO:Plotting -- RooAbsPdf::plotOn(model_background_expow1) directly selected PDF components: (model_background_expow1)\n",
      "[#1] INFO:Plotting -- RooAbsPdf::plotOn(model_background_expow1) indirectly selected PDF components: ()\n",
      "[#1] INFO:NumericIntegration -- RooRealIntegral::init(model_background_expow1_Int[fit_mass]) using numeric integrator RooRombergIntegrator to calculate Int(fit_mass)\n"
     ]
    },
    {
     "name": "stderr",
     "output_type": "stream",
     "text": [
      "Info in <TCanvas::Print>: pdf file test.pdf has been created\n"
     ]
    },
    {
     "data": {
      "image/png": "[encoded data removed]",
      "text/plain": [
       "<IPython.core.display.Image object>"
      ]
     },
     "metadata": {},
     "output_type": "display_data"
    }
   ],
   "source": [
    "c = ROOT.TCanvas()\n",
    "ROOT.gPad.SetLogy()\n",
    "\n",
    "frame = fit_mass.frame(Bins=40, Title=\"P.d.f with visualized 1-sigma error band\")\n",
    "fit_mass.setBins(25)\n",
    "d = model.generateBinned({fit_mass}, 1000)\n",
    "d.plotOn(frame)\n",
    "#model.plotOn(frame, VisualizeError=(result, 1), FillColor=\"kOrange\")\n",
    "#model.plotOn(frame, VisualizeError=(result, 1, False), DrawOption=\"L\", LineWidth=2, LineColor=\"r\")\n",
    "model.plotOn(frame, VisualizeError=(result, 1), FillColor=\"kOrange\", Components=\"model_background_expow1\")\n",
    "\"\"\"\n",
    "model.plotOn(\n",
    "    frame,\n",
    "    VisualizeError=(result, 1, False),\n",
    "    DrawOption=\"L\",\n",
    "    LineWidth=2,\n",
    "    LineColor=\"r\",\n",
    "    Components=\"model_background_expow1\",\n",
    "    LineStyle=\"--\",\n",
    ")\n",
    "\"\"\"\n",
    "model.plotOn(frame)\n",
    "model.plotOn(frame, Components=\"model_background_expow1\", LineStyle=\"--\")\n",
    "d.plotOn(frame)\n",
    "frame.SetMinimum(1e-1)\n",
    "\n",
    "\n",
    "frame.Draw()\n",
    "c.SaveAs(\"test.pdf\")"
   ]
  },
  {
   "cell_type": "code",
   "execution_count": null,
   "metadata": {},
   "outputs": [],
   "source": []
  }
 ],
 "metadata": {
  "kernelspec": {
   "display_name": "Python 3",
   "language": "python",
   "name": "python3"
  },
  "language_info": {
   "codemirror_mode": {
    "name": "ipython",
    "version": 3
   },
   "file_extension": ".py",
   "mimetype": "text/x-python",
   "name": "python",
   "nbconvert_exporter": "python",
   "pygments_lexer": "ipython3",
   "version": "3.9.14"
  }
 },
 "nbformat": 4,
 "nbformat_minor": 2
}
