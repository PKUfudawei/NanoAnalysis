{
 "cells": [
  {
   "cell_type": "code",
   "execution_count": null,
   "metadata": {},
   "outputs": [],
   "source": [
    "import ROOT, os"
   ]
  },
  {
   "cell_type": "code",
   "execution_count": 44,
   "metadata": {},
   "outputs": [],
   "source": [
    "CR_cut = f\"\"\"(\n",
    "    (((jet_mass>50) & (jet_mass<80)) | (jet_mass>150)) & \n",
    "    (tagger>0.98) & (tagger<2)\n",
    ")\"\"\""
   ]
  },
  {
   "cell_type": "markdown",
   "metadata": {},
   "source": [
    "# Read file"
   ]
  },
  {
   "cell_type": "code",
   "execution_count": null,
   "metadata": {},
   "outputs": [],
   "source": [
    "f = ROOT.TFile(f\"input/Run2/data.root\", \"r\")\n",
    "tree = f.Get(\"Events\")\n",
    "fit_mass = ROOT.RooRealVar(\"fit_mass\", \"fit_mass\", 1500, 650, 4000)\n",
    "weight = ROOT.RooRealVar(\"weight\", \"weight\", 1, -10, 10)\n",
    "jet_mass = ROOT.RooRealVar(\"jet_mass\", \"jet_mass\", 125, 0, 999)\n",
    "tagger = ROOT.RooRealVar(\"tagger\", \"tagger\", 0, 0, 2)\n",
    "data_region = ROOT.RooDataSet(f\"data_CR\", f\"data_CR\", tree, ROOT.RooArgSet(fit_mass, weight, jet_mass, tagger), CR_cut, \"weight\")\n",
    "\n",
    "\n",
    "p1 = ROOT.RooRealVar(\"p1\", \"p1\", -0.1, -10, 0)\n",
    "model = ROOT.RooGenericPdf(\"model_background_expow1\", \"model_background_expow1\", \"TMath::Power(@0, @1)\", ROOT.RooArgList(fit_mass, p1))\n",
    "result = model.fitTo(data_region, ROOT.RooFit.SumW2Error(True), Save=True)\n",
    "p1.setConstant(True)\n"
   ]
  },
  {
   "cell_type": "markdown",
   "metadata": {},
   "source": [
    "# Fit"
   ]
  },
  {
   "cell_type": "code",
   "execution_count": null,
   "metadata": {},
   "outputs": [],
   "source": [
    "model, p1, p2, p3, result = {}, {}, {}, {}, {}\n",
    "\n",
    "# dijet2 model\n",
    "p1['dijet2'] = ROOT.RooRealVar(\"p1\", \"p1\", 1, -10, 100)\n",
    "p2['dijet2'] = ROOT.RooRealVar(\"p2\", \"p2\", -1, -10, 10)\n",
    "model['dijet2'] = ROOT.RooGenericPdf(\"model_background_dijet2\", \"model_background_dijet2\", \"TMath::Power(@0, @1 + @2 * TMath::Log(@0))\", ROOT.RooArgList(fit_mass, p1['dijet2'], p2['dijet2']))\n",
    "\n",
    "# dijet3 model\n",
    "p1['dijet3'] = ROOT.RooRealVar(\"p1\", \"p1\", 1, -10, 10)\n",
    "p2['dijet3'] = ROOT.RooRealVar(\"p2\", \"p2\", -1, -10, 10)\n",
    "p3['dijet3'] = ROOT.RooRealVar(\"p3\", \"p3\", -0.1, -10, 10)\n",
    "model['dijet3'] = ROOT.RooGenericPdf(\"model_background_dijet3\", \"model_background_dijet3\", \"TMath::Power(@0, @1 + @2 * TMath::Log(@0) + @3 * TMath::Power(TMath::Log(@0), 2))\", ROOT.RooArgList(fit_mass, p1['dijet3'], p2['dijet3'], p3['dijet3']))\n",
    "\n",
    "# expow1 model\n",
    "p1['expow1'] = ROOT.RooRealVar(\"p1\", \"p1\", -0.1, -10, 0)\n",
    "model['expow1'] = ROOT.RooGenericPdf(\"model_background_expow1\", \"model_background_expow1\", \"TMath::Power(@0, @1)\", ROOT.RooArgList(fit_mass, p1['expow1']))\n",
    "_model = ROOT.RooGenericPdf(\"model_background_expow1\", \"model_background_expow1\", \"TMath::Power(@0, @1)\", ROOT.RooArgList(fit_mass, p1['expow1']))\n",
    "\n",
    "\n",
    "# expow2 model\n",
    "p1['expow2'] = ROOT.RooRealVar(\"p1\", \"p1\", -0.01, -5, 0)\n",
    "p2['expow2'] = ROOT.RooRealVar(\"p2\", \"p2\", -0.001, -1, 0)\n",
    "model['expow2'] = ROOT.RooGenericPdf(\"model_background_expow2\", \"model_background_expow2\", \"TMath::Power(@0, @1) * TMath::Exp(@2 * @0)\", ROOT.RooArgList(fit_mass, p1['expow2'], p2['expow2']))\n",
    "\n",
    "# invpow2 model\n",
    "p1['invpow2'] = ROOT.RooRealVar(\"p1\", \"p1\", 1, -1, 100)\n",
    "p2['invpow2'] = ROOT.RooRealVar(\"p2\", \"p2\", -1, -100, 1)\n",
    "model['invpow2'] = ROOT.RooGenericPdf(\"model_background_invpow2\", \"model_background_invpow2\", \"TMath::Power(1 + @1*@0, @2)\", ROOT.RooArgList(fit_mass, p1['invpow2'], p2['invpow2']))\n",
    "\n",
    "# invpow3 model\n",
    "p1['invpow3'] = ROOT.RooRealVar(\"p1\", \"p1\", 1, -1, 100)\n",
    "p2['invpow3'] = ROOT.RooRealVar(\"p2\", \"p2\", -1, -100, 1)\n",
    "p3['invpow3'] = ROOT.RooRealVar(\"p3\", \"p3\", 1e-6, -1, 1)\n",
    "model['invpow3'] = ROOT.RooGenericPdf(\"model_background_invpow3\", \"model_background_invpow3\", \"TMath::Power(1 + @1*@0, @2 + @3*@0)\", ROOT.RooArgList(fit_mass, p1['invpow3'], p2['invpow3'], p3['invpow3']))\n",
    "\n",
    "for k in model:\n",
    "    result[k] = model[k].fitTo(data_region, ROOT.RooFit.SumW2Error(True), Save=True)\n",
    "    p1[k].setConstant(True)\n",
    "    if k in p2:\n",
    "        p2[k].setConstant(True)\n",
    "    if k in p3:\n",
    "        p3[k].setConstant(True)"
   ]
  },
  {
   "cell_type": "code",
   "execution_count": null,
   "metadata": {},
   "outputs": [],
   "source": [
    "for k in p1:\n",
    "    print('p1', k, p1[k].getVal())\n",
    "print()\n",
    "for k in p2:\n",
    "    print('p2', k, p2[k].getVal())"
   ]
  },
  {
   "cell_type": "code",
   "execution_count": null,
   "metadata": {},
   "outputs": [],
   "source": [
    "#['expow1', 'expow2', 'dijet2', 'dijet3', 'invpow2', 'invpow3']\n",
    "c = ROOT.TCanvas()\n",
    "ROOT.gPad.SetLogy()\n",
    "\n",
    "line_color = {'expow1': ROOT.kRed, 'expow2': ROOT.kYellow+1, 'dijet2': ROOT.kGreen, 'dijet3': ROOT.kCyan, 'invpow2':ROOT.kBlue, 'invpow3': ROOT.kMagenta}\n",
    "band_color = {'expow1': ROOT.kPink, 'expow2': ROOT.kYellow, 'dijet2': ROOT.kGreen, 'dijet3': ROOT.kCyan, 'invpow2':ROOT.kAzure, 'invpow3': ROOT.kMagenta}\n",
    "\n",
    "frame = fit_mass.frame(650, 4000, 67)\n",
    "fit_mass.setBins(67)\n",
    "data_binned = model['dijet2'].generateBinned({fit_mass}, 1000)\n",
    "data_binned.plotOn(frame)\n",
    "\n",
    "line = {}\n",
    "candidates = ['expow1', 'expow2', 'dijet2', 'dijet3', 'invpow2', 'invpow3']\n",
    "#for k in candidates:\n",
    "#    model[k].plotOn(frame, VisualizeError=(result[k], 1), FillColor='kGray')\n",
    "for k in candidates:\n",
    "    model[k].plotOn(frame, LineColor=line_color[k])\n",
    "data_binned.plotOn(frame)\n",
    "frame.SetMinimum(1e-1)\n",
    "\n",
    "frame.Draw()\n",
    "c.SaveAs(\"/afs/cern.ch/user/d/dfu/NanoAnalysis/fit/test.pdf\")"
   ]
  },
  {
   "cell_type": "code",
   "execution_count": null,
   "metadata": {},
   "outputs": [],
   "source": []
  }
 ],
 "metadata": {
  "kernelspec": {
   "display_name": "Python 3",
   "language": "python",
   "name": "python3"
  },
  "language_info": {
   "codemirror_mode": {
    "name": "ipython",
    "version": 3
   },
   "file_extension": ".py",
   "mimetype": "text/x-python",
   "name": "python",
   "nbconvert_exporter": "python",
   "pygments_lexer": "ipython3",
   "version": "3.9.14"
  }
 },
 "nbformat": 4,
 "nbformat_minor": 2
}
