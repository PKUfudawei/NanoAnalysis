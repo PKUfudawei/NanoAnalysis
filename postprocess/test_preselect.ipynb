{
 "cells": [
  {
   "cell_type": "code",
   "execution_count": 1,
   "metadata": {},
   "outputs": [
    {
     "name": "stderr",
     "output_type": "stream",
     "text": [
      "/home/pku/fudawei/.local/lib/python3.9/site-packages/coffea/nanoevents/methods/candidate.py:11: FutureWarning: In version 2024.7.0 (target date: 2024-06-30 11:59:59-05:00), this will be an error.\n",
      "To raise these warnings as errors (and get stack traces to find out where they're called), run\n",
      "    import warnings\n",
      "    warnings.filterwarnings(\"error\", module=\"coffea.*\")\n",
      "after the first `import coffea` or use `@pytest.mark.filterwarnings(\"error:::coffea.*\")` in pytest.\n",
      "Issue: coffea.nanoevents.methods.vector will be removed and replaced with scikit-hep vector. Nanoevents schemas internal to coffea will be migrated. Otherwise please consider using that package!.\n",
      "  from coffea.nanoevents.methods import vector\n",
      "/home/pku/fudawei/.local/lib/python3.9/site-packages/numba/core/cpu.py:99: UserWarning: Numba extension module 'awkward.numba' failed to load due to 'AttributeError(module 'awkward.numba' has no attribute 'register')'.\n",
      "  numba.core.entrypoints.init_all()\n"
     ]
    }
   ],
   "source": [
    "import awkward as ak\n",
    "import numpy as np\n",
    "import os, json, time, uproot, yaml, correctionlib\n",
    "\n",
    "from coffea import processor, lumi_tools\n",
    "from coffea.nanoevents import NanoEventsFactory, NanoAODSchema\n",
    "from coffea.nanoevents.methods.nanoaod import FatJetArray\n",
    "from coffea.analysis_tools import PackedSelection\n",
    "\n",
    "import sys\n",
    "sys.path.append(\"..\")\n",
    "from src.processors.Processor import Processor\n",
    "from src.processors.GenMatch import GenMatch"
   ]
  },
  {
   "attachments": {},
   "cell_type": "markdown",
   "metadata": {},
   "source": [
    "# Batch test"
   ]
  },
  {
   "cell_type": "code",
   "execution_count": 2,
   "metadata": {},
   "outputs": [],
   "source": [
    "uproot.open.defaults[\"xrootd_handler\"] = uproot.MultithreadedXRootDSource\n",
    "_events = NanoEventsFactory.from_root(\n",
    "    #file='https://stash.osgconnect.net/+dfu/customizedNanoAOD/output/mc/2018/GJets/GJets_HT-200To400/1397.root',\n",
    "    {'/data/bond/fudawei/public/customizedNanoAOD/output/mc/2017/GJets/GJets_HT-600ToInf/209.root': 'Events'},\n",
    "    schemaclass=NanoAODSchema, delayed=False,\n",
    ").events()\n",
    "p=Processor(outdir='./test/', mode='mc_2017_GJets', param_dir='../src/parameters/')\n",
    "c=p.process(_events)\n"
   ]
  },
  {
   "cell_type": "code",
   "execution_count": 56,
   "metadata": {},
   "outputs": [
    {
     "data": {
      "text/plain": [
       "(711, 1, 6980936)"
      ]
     },
     "execution_count": 56,
     "metadata": {},
     "output_type": "execute_result"
    }
   ],
   "source": [
    "p.event[0].luminosityBlock, p.event[0].run, p.event[0].event"
   ]
  },
  {
   "cell_type": "code",
   "execution_count": 4,
   "metadata": {},
   "outputs": [
    {
     "data": {
      "text/html": [
       "<pre>[[1.27, 1.09, 0.941, 1.17, 1, 0.867, 1.08, 0.927, 0.804],\n",
       " [1.2, 1.09, 0.997, 1.1, 1, 0.914, 1.02, 0.924, 0.845],\n",
       " [1.07, 1, 0.934, 1.07, 1, 0.934, 1.07, 1, 0.934],\n",
       " [1.3, 1.19, 1.09, 1.09, 1, 0.92, 0.934, 0.855, 0.786],\n",
       " [1.19, 1.09, 0.993, 1.1, 1, 0.914, 1.02, 0.927, 0.848],\n",
       " [1.22, 1.09, 0.979, 1.12, 1, 0.899, 1.04, 0.925, 0.832],\n",
       " [1.22, 1.09, 0.977, 1.12, 1, 0.897, 1.04, 0.925, 0.829],\n",
       " [1.24, 1.08, 0.949, 1.15, 1, 0.88, 1.07, 0.932, 0.821],\n",
       " [1.2, 1.09, 0.991, 1.1, 1, 0.912, 1.02, 0.926, 0.845],\n",
       " [1.3, 1.17, 1.07, 1.11, 1, 0.908, 0.955, 0.862, 0.783],\n",
       " ...,\n",
       " [1.21, 1.1, 1, 1.1, 1, 0.915, 1.01, 0.919, 0.841],\n",
       " [1.22, 1.09, 0.988, 1.11, 1, 0.905, 1.03, 0.923, 0.835],\n",
       " [1.17, 1.09, 1.02, 1.07, 1, 0.938, 0.987, 0.923, 0.866],\n",
       " [1.3, 1.17, 1.07, 1.11, 1, 0.908, 0.956, 0.863, 0.783],\n",
       " [1.28, 1.19, 1.11, 1.08, 1, 0.932, 0.918, 0.853, 0.796],\n",
       " [1.18, 1.09, 1.02, 1.08, 1, 0.929, 0.997, 0.922, 0.856],\n",
       " [1.17, 1.09, 1.01, 1.08, 1, 0.93, 0.993, 0.923, 0.858],\n",
       " [1.21, 1.09, 0.983, 1.11, 1, 0.904, 1.03, 0.926, 0.837],\n",
       " [1.3, 1.19, 1.09, 1.09, 1, 0.918, 0.932, 0.853, 0.784]]\n",
       "-----------------------------------------------------------------------------------------------------------------------------------------------------------------------------------------------------------------------------------------------------------------------------------------------------------------------------------------------------------------------------------------------------------------------------------------------------------------------------------------------\n",
       "type: 543 * option[[var * float32[parameters={&quot;__doc__&quot;: &quot;LHE scale variation weights (w_var / w_nominal); [0] is MUF=\\&quot;0.5\\&quot; MUR=\\&quot;0.5\\&quot;; [1] is MUF=\\&quot;1.0\\&quot; MUR=\\&quot;0.5\\&quot;; [2] is MUF=\\&quot;2.0\\&quot; MUR=\\&quot;0.5\\&quot;; [3] is MUF=\\&quot;0.5\\&quot; MUR=\\&quot;1.0\\&quot;; [4] is MUF=\\&quot;1.0\\&quot; MUR=\\&quot;1.0\\&quot;; [5] is MUF=\\&quot;2.0\\&quot; MUR=\\&quot;1.0\\&quot;; [6] is MUF=\\&quot;0.5\\&quot; MUR=\\&quot;2.0\\&quot;; [7] is MUF=\\&quot;1.0\\&quot; MUR=\\&quot;2.0\\&quot;; [8] is MUF=\\&quot;2.0\\&quot; MUR=\\&quot;2.0\\&quot;&quot;}], parameters={&quot;__array__&quot;: &quot;NanoCollection&quot;, &quot;collection_name&quot;: &quot;LHEScaleWeight&quot;}]]</pre>"
      ],
      "text/plain": [
       "<Array [[1.27, 1.09, ..., 0.927, 0.804], ...] type='543 * option[[var * flo...'>"
      ]
     },
     "execution_count": 4,
     "metadata": {},
     "output_type": "execute_result"
    }
   ],
   "source": [
    "p.variables['event_LHEScaleWeight']"
   ]
  },
  {
   "cell_type": "code",
   "execution_count": 9,
   "metadata": {},
   "outputs": [
    {
     "ename": "ValueError",
     "evalue": "Specification of treename by argument to from_root is no longer supported in coffea 2023.\n            Please use one of the allowed types for \"files\" specified by uproot: https://github.com/scikit-hep/uproot5/blob/v5.1.2/src/uproot/_dask.py#L109-L132\n            ",
     "output_type": "error",
     "traceback": [
      "\u001b[0;31m---------------------------------------------------------------------------\u001b[0m",
      "\u001b[0;31mValueError\u001b[0m                                Traceback (most recent call last)",
      "Cell \u001b[0;32mIn[9], line 1\u001b[0m\n\u001b[0;32m----> 1\u001b[0m _events \u001b[38;5;241m=\u001b[39m \u001b[43mNanoEventsFactory\u001b[49m\u001b[38;5;241;43m.\u001b[39;49m\u001b[43mfrom_root\u001b[49m\u001b[43m(\u001b[49m\n\u001b[1;32m      2\u001b[0m \u001b[43m    \u001b[49m\u001b[38;5;66;43;03m#file='https://stash.osgconnect.net/+dfu/customizedNanoAOD/output/mc/2018/GJets/GJets_HT-200To400/1397.root',\u001b[39;49;00m\n\u001b[1;32m      3\u001b[0m \u001b[43m    \u001b[49m\u001b[43mfile\u001b[49m\u001b[38;5;241;43m=\u001b[39;49m\u001b[38;5;124;43m'\u001b[39;49m\u001b[38;5;124;43m/data/bond/fudawei/public/customizedNanoAOD/output/mc/2017/GJets/GJets_HT-600ToInf/209.root\u001b[39;49m\u001b[38;5;124;43m'\u001b[39;49m\u001b[43m,\u001b[49m\n\u001b[1;32m      4\u001b[0m \u001b[43m    \u001b[49m\u001b[43mtreepath\u001b[49m\u001b[38;5;241;43m=\u001b[39;49m\u001b[38;5;124;43m'\u001b[39;49m\u001b[38;5;124;43mEvents\u001b[39;49m\u001b[38;5;124;43m'\u001b[39;49m\u001b[43m,\u001b[49m\u001b[43m \u001b[49m\u001b[43mschemaclass\u001b[49m\u001b[38;5;241;43m=\u001b[39;49m\u001b[43mNanoAODSchema\u001b[49m\n\u001b[1;32m      5\u001b[0m \u001b[43m)\u001b[49m\u001b[38;5;241m.\u001b[39mevents()\n",
      "File \u001b[0;32m~/.local/lib/python3.9/site-packages/coffea/nanoevents/factory.py:264\u001b[0m, in \u001b[0;36mNanoEventsFactory.from_root\u001b[0;34m(cls, file, treepath, entry_start, entry_stop, steps_per_file, runtime_cache, persistent_cache, schemaclass, metadata, uproot_options, access_log, iteritems_options, use_ak_forth, delayed, known_base_form)\u001b[0m\n\u001b[1;32m    223\u001b[0m \u001b[38;5;250m\u001b[39m\u001b[38;5;124;03m\"\"\"Quickly build NanoEvents from a root file\u001b[39;00m\n\u001b[1;32m    224\u001b[0m \n\u001b[1;32m    225\u001b[0m \u001b[38;5;124;03mParameters\u001b[39;00m\n\u001b[0;32m   (...)\u001b[0m\n\u001b[1;32m    258\u001b[0m \u001b[38;5;124;03m        If the base form of the input file is known ahead of time we can skip opening a single file and parsing metadata.\u001b[39;00m\n\u001b[1;32m    259\u001b[0m \u001b[38;5;124;03m\"\"\"\u001b[39;00m\n\u001b[1;32m    261\u001b[0m \u001b[38;5;28;01mif\u001b[39;00m treepath \u001b[38;5;129;01mis\u001b[39;00m \u001b[38;5;129;01mnot\u001b[39;00m uproot\u001b[38;5;241m.\u001b[39m_util\u001b[38;5;241m.\u001b[39munset \u001b[38;5;129;01mand\u001b[39;00m \u001b[38;5;129;01mnot\u001b[39;00m \u001b[38;5;28misinstance\u001b[39m(\n\u001b[1;32m    262\u001b[0m     file, uproot\u001b[38;5;241m.\u001b[39mreading\u001b[38;5;241m.\u001b[39mReadOnlyDirectory\n\u001b[1;32m    263\u001b[0m ):\n\u001b[0;32m--> 264\u001b[0m     \u001b[38;5;28;01mraise\u001b[39;00m \u001b[38;5;167;01mValueError\u001b[39;00m(\n\u001b[1;32m    265\u001b[0m \u001b[38;5;250m        \u001b[39m\u001b[38;5;124;03m\"\"\"Specification of treename by argument to from_root is no longer supported in coffea 2023.\u001b[39;00m\n\u001b[1;32m    266\u001b[0m \u001b[38;5;124;03m    Please use one of the allowed types for \"files\" specified by uproot: https://github.com/scikit-hep/uproot5/blob/v5.1.2/src/uproot/_dask.py#L109-L132\u001b[39;00m\n\u001b[1;32m    267\u001b[0m \u001b[38;5;124;03m    \"\"\"\u001b[39;00m\n\u001b[1;32m    268\u001b[0m     )\n\u001b[1;32m    270\u001b[0m \u001b[38;5;28;01mif\u001b[39;00m delayed \u001b[38;5;129;01mand\u001b[39;00m steps_per_file \u001b[38;5;129;01mis\u001b[39;00m \u001b[38;5;129;01mnot\u001b[39;00m uproot\u001b[38;5;241m.\u001b[39m_util\u001b[38;5;241m.\u001b[39munset:\n\u001b[1;32m    271\u001b[0m     warnings\u001b[38;5;241m.\u001b[39mwarn(\n\u001b[1;32m    272\u001b[0m         \u001b[38;5;124mf\u001b[39m\u001b[38;5;124m\"\"\"\u001b[39m\u001b[38;5;124mYou have set steps_per_file to \u001b[39m\u001b[38;5;132;01m{\u001b[39;00msteps_per_file\u001b[38;5;132;01m}\u001b[39;00m\u001b[38;5;124m, this should only be used for a\u001b[39m\n\u001b[1;32m    273\u001b[0m \u001b[38;5;124m        small number of inputs (e.g. for early-stage/exploratory analysis) since it does not\u001b[39m\n\u001b[0;32m   (...)\u001b[0m\n\u001b[1;32m    279\u001b[0m         \u001b[38;5;167;01mRuntimeWarning\u001b[39;00m,\n\u001b[1;32m    280\u001b[0m     )\n",
      "\u001b[0;31mValueError\u001b[0m: Specification of treename by argument to from_root is no longer supported in coffea 2023.\n            Please use one of the allowed types for \"files\" specified by uproot: https://github.com/scikit-hep/uproot5/blob/v5.1.2/src/uproot/_dask.py#L109-L132\n            "
     ]
    }
   ],
   "source": [
    "_events = NanoEventsFactory.from_root(\n",
    "    #file='https://stash.osgconnect.net/+dfu/customizedNanoAOD/output/mc/2018/GJets/GJets_HT-200To400/1397.root',\n",
    "    file='/data/bond/fudawei/public/customizedNanoAOD/output/mc/2017/GJets/GJets_HT-600ToInf/209.root',\n",
    "    treepath='Events', schemaclass=NanoAODSchema\n",
    ").events()"
   ]
  },
  {
   "cell_type": "code",
   "execution_count": 7,
   "metadata": {},
   "outputs": [
    {
     "data": {
      "text/plain": [
       "<Array [1.05, 1, 0.95, 1.05, ... 1.05, 1, 0.95] type='9 * float32[parameters={\"_...'>"
      ]
     },
     "execution_count": 7,
     "metadata": {},
     "output_type": "execute_result"
    }
   ],
   "source": [
    "_events.LHEScaleWeight[0]"
   ]
  },
  {
   "cell_type": "code",
   "execution_count": 7,
   "metadata": {},
   "outputs": [
    {
     "data": {
      "text/plain": [
       "['ParticleNetMDraw_probQCDb',\n",
       " 'ParticleNetMDraw_probQCDbb',\n",
       " 'ParticleNetMDraw_probQCDc',\n",
       " 'ParticleNetMDraw_probQCDcc',\n",
       " 'ParticleNetMDraw_probQCDothers',\n",
       " 'ParticleNetMDraw_probXbb',\n",
       " 'ParticleNetMDraw_probXcc',\n",
       " 'ParticleNetMDraw_probXqq',\n",
       " 'ParticleNetraw_probHbb',\n",
       " 'ParticleNetraw_probHcc',\n",
       " 'ParticleNetraw_probHqqqq',\n",
       " 'ParticleNetraw_probQCDb',\n",
       " 'ParticleNetraw_probQCDbb',\n",
       " 'ParticleNetraw_probQCDc',\n",
       " 'ParticleNetraw_probQCDcc',\n",
       " 'ParticleNetraw_probQCDothers',\n",
       " 'ParticleNetraw_probTbc',\n",
       " 'ParticleNetraw_probTbcq',\n",
       " 'ParticleNetraw_probTbel',\n",
       " 'ParticleNetraw_probTbmu',\n",
       " 'ParticleNetraw_probTbq',\n",
       " 'ParticleNetraw_probTbqq',\n",
       " 'ParticleNetraw_probTbta',\n",
       " 'ParticleNetraw_probWcq',\n",
       " 'ParticleNetraw_probWqq',\n",
       " 'ParticleNetraw_probZbb',\n",
       " 'ParticleNetraw_probZcc',\n",
       " 'ParticleNetraw_probZqq',\n",
       " 'area',\n",
       " 'btagCMVA',\n",
       " 'btagCSVV2',\n",
       " 'btagDDBvL',\n",
       " 'btagDDBvLV2',\n",
       " 'btagDDBvL_noMD',\n",
       " 'btagDDCvB',\n",
       " 'btagDDCvBV2',\n",
       " 'btagDDCvB_noMD',\n",
       " 'btagDDCvL',\n",
       " 'btagDDCvLV2',\n",
       " 'btagDDCvL_noMD',\n",
       " 'btagDeepB',\n",
       " 'btagHbb',\n",
       " 'deepHWWMDV1_probHww3q',\n",
       " 'deepHWWMDV1_probHww4q',\n",
       " 'deepHWWMDV1_probHww4q3qvsQCD',\n",
       " 'deepHWWMDV1_probHww4qvsQCD',\n",
       " 'deepHWWMDV1_probHwwevqq',\n",
       " 'deepHWWMDV1_probHwwhadtauvqq',\n",
       " 'deepHWWMDV1_probHwwleptauevqq',\n",
       " 'deepHWWMDV1_probHwwleptaumvqq',\n",
       " 'deepHWWMDV1_probHwwmvqq',\n",
       " 'deepHWWMDV1_probQCDb',\n",
       " 'deepHWWMDV1_probQCDbb',\n",
       " 'deepHWWMDV1_probQCDc',\n",
       " 'deepHWWMDV1_probQCDcc',\n",
       " 'deepHWWMDV1_probQCDothers',\n",
       " 'deepTagMD_H4qvsQCD',\n",
       " 'deepTagMD_HbbvsQCD',\n",
       " 'deepTagMD_TvsQCD',\n",
       " 'deepTagMD_WvsQCD',\n",
       " 'deepTagMD_ZHbbvsQCD',\n",
       " 'deepTagMD_ZHccvsQCD',\n",
       " 'deepTagMD_ZbbvsQCD',\n",
       " 'deepTagMD_ZvsQCD',\n",
       " 'deepTagMD_bbvsLight',\n",
       " 'deepTagMD_ccvsLight',\n",
       " 'deepTagMD_probHbb',\n",
       " 'deepTagMD_probHcc',\n",
       " 'deepTagMD_probHqqqq',\n",
       " 'deepTagMD_probQCDb',\n",
       " 'deepTagMD_probQCDbb',\n",
       " 'deepTagMD_probQCDc',\n",
       " 'deepTagMD_probQCDcc',\n",
       " 'deepTagMD_probQCDothers',\n",
       " 'deepTagMD_probTbc',\n",
       " 'deepTagMD_probTbcq',\n",
       " 'deepTagMD_probTbq',\n",
       " 'deepTagMD_probTbqq',\n",
       " 'deepTagMD_probWcq',\n",
       " 'deepTagMD_probWqq',\n",
       " 'deepTagMD_probZbb',\n",
       " 'deepTagMD_probZcc',\n",
       " 'deepTagMD_probZqq',\n",
       " 'deepTag_H',\n",
       " 'deepTag_QCD',\n",
       " 'deepTag_QCDothers',\n",
       " 'deepTag_TvsQCD',\n",
       " 'deepTag_WvsQCD',\n",
       " 'deepTag_ZvsQCD',\n",
       " 'deepTag_probHbb',\n",
       " 'deepTag_probHcc',\n",
       " 'deepTag_probHqqqq',\n",
       " 'deepTag_probQCDb',\n",
       " 'deepTag_probQCDbb',\n",
       " 'deepTag_probQCDc',\n",
       " 'deepTag_probQCDcc',\n",
       " 'deepTag_probQCDothers',\n",
       " 'deepTag_probTbc',\n",
       " 'deepTag_probTbcq',\n",
       " 'deepTag_probTbq',\n",
       " 'deepTag_probTbqq',\n",
       " 'deepTag_probWcq',\n",
       " 'deepTag_probWqq',\n",
       " 'deepTag_probZbb',\n",
       " 'deepTag_probZcc',\n",
       " 'deepTag_probZqq',\n",
       " 'eta',\n",
       " 'inclParTMDV1_HWW4q3qvsQCD',\n",
       " 'inclParTMDV1_HWW4qvsQCD',\n",
       " 'inclParTMDV1_HWWlvqqvsQCDTop',\n",
       " 'inclParTMDV1_HWWlvqqvsTopblv',\n",
       " 'inclParTMDV1_HbbvsQCD',\n",
       " 'inclParTMDV1_HccvsQCD',\n",
       " 'inclParTMDV1_hidNeuron000',\n",
       " 'inclParTMDV1_hidNeuron001',\n",
       " 'inclParTMDV1_hidNeuron002',\n",
       " 'inclParTMDV1_hidNeuron003',\n",
       " 'inclParTMDV1_hidNeuron004',\n",
       " 'inclParTMDV1_hidNeuron005',\n",
       " 'inclParTMDV1_hidNeuron006',\n",
       " 'inclParTMDV1_hidNeuron007',\n",
       " 'inclParTMDV1_hidNeuron008',\n",
       " 'inclParTMDV1_hidNeuron009',\n",
       " 'inclParTMDV1_hidNeuron010',\n",
       " 'inclParTMDV1_hidNeuron011',\n",
       " 'inclParTMDV1_hidNeuron012',\n",
       " 'inclParTMDV1_hidNeuron013',\n",
       " 'inclParTMDV1_hidNeuron014',\n",
       " 'inclParTMDV1_hidNeuron015',\n",
       " 'inclParTMDV1_hidNeuron016',\n",
       " 'inclParTMDV1_hidNeuron017',\n",
       " 'inclParTMDV1_hidNeuron018',\n",
       " 'inclParTMDV1_hidNeuron019',\n",
       " 'inclParTMDV1_hidNeuron020',\n",
       " 'inclParTMDV1_hidNeuron021',\n",
       " 'inclParTMDV1_hidNeuron022',\n",
       " 'inclParTMDV1_hidNeuron023',\n",
       " 'inclParTMDV1_hidNeuron024',\n",
       " 'inclParTMDV1_hidNeuron025',\n",
       " 'inclParTMDV1_hidNeuron026',\n",
       " 'inclParTMDV1_hidNeuron027',\n",
       " 'inclParTMDV1_hidNeuron028',\n",
       " 'inclParTMDV1_hidNeuron029',\n",
       " 'inclParTMDV1_hidNeuron030',\n",
       " 'inclParTMDV1_hidNeuron031',\n",
       " 'inclParTMDV1_hidNeuron032',\n",
       " 'inclParTMDV1_hidNeuron033',\n",
       " 'inclParTMDV1_hidNeuron034',\n",
       " 'inclParTMDV1_hidNeuron035',\n",
       " 'inclParTMDV1_hidNeuron036',\n",
       " 'inclParTMDV1_hidNeuron037',\n",
       " 'inclParTMDV1_hidNeuron038',\n",
       " 'inclParTMDV1_hidNeuron039',\n",
       " 'inclParTMDV1_hidNeuron040',\n",
       " 'inclParTMDV1_hidNeuron041',\n",
       " 'inclParTMDV1_hidNeuron042',\n",
       " 'inclParTMDV1_hidNeuron043',\n",
       " 'inclParTMDV1_hidNeuron044',\n",
       " 'inclParTMDV1_hidNeuron045',\n",
       " 'inclParTMDV1_hidNeuron046',\n",
       " 'inclParTMDV1_hidNeuron047',\n",
       " 'inclParTMDV1_hidNeuron048',\n",
       " 'inclParTMDV1_hidNeuron049',\n",
       " 'inclParTMDV1_hidNeuron050',\n",
       " 'inclParTMDV1_hidNeuron051',\n",
       " 'inclParTMDV1_hidNeuron052',\n",
       " 'inclParTMDV1_hidNeuron053',\n",
       " 'inclParTMDV1_hidNeuron054',\n",
       " 'inclParTMDV1_hidNeuron055',\n",
       " 'inclParTMDV1_hidNeuron056',\n",
       " 'inclParTMDV1_hidNeuron057',\n",
       " 'inclParTMDV1_hidNeuron058',\n",
       " 'inclParTMDV1_hidNeuron059',\n",
       " 'inclParTMDV1_hidNeuron060',\n",
       " 'inclParTMDV1_hidNeuron061',\n",
       " 'inclParTMDV1_hidNeuron062',\n",
       " 'inclParTMDV1_hidNeuron063',\n",
       " 'inclParTMDV1_hidNeuron064',\n",
       " 'inclParTMDV1_hidNeuron065',\n",
       " 'inclParTMDV1_hidNeuron066',\n",
       " 'inclParTMDV1_hidNeuron067',\n",
       " 'inclParTMDV1_hidNeuron068',\n",
       " 'inclParTMDV1_hidNeuron069',\n",
       " 'inclParTMDV1_hidNeuron070',\n",
       " 'inclParTMDV1_hidNeuron071',\n",
       " 'inclParTMDV1_hidNeuron072',\n",
       " 'inclParTMDV1_hidNeuron073',\n",
       " 'inclParTMDV1_hidNeuron074',\n",
       " 'inclParTMDV1_hidNeuron075',\n",
       " 'inclParTMDV1_hidNeuron076',\n",
       " 'inclParTMDV1_hidNeuron077',\n",
       " 'inclParTMDV1_hidNeuron078',\n",
       " 'inclParTMDV1_hidNeuron079',\n",
       " 'inclParTMDV1_hidNeuron080',\n",
       " 'inclParTMDV1_hidNeuron081',\n",
       " 'inclParTMDV1_hidNeuron082',\n",
       " 'inclParTMDV1_hidNeuron083',\n",
       " 'inclParTMDV1_hidNeuron084',\n",
       " 'inclParTMDV1_hidNeuron085',\n",
       " 'inclParTMDV1_hidNeuron086',\n",
       " 'inclParTMDV1_hidNeuron087',\n",
       " 'inclParTMDV1_hidNeuron088',\n",
       " 'inclParTMDV1_hidNeuron089',\n",
       " 'inclParTMDV1_hidNeuron090',\n",
       " 'inclParTMDV1_hidNeuron091',\n",
       " 'inclParTMDV1_hidNeuron092',\n",
       " 'inclParTMDV1_hidNeuron093',\n",
       " 'inclParTMDV1_hidNeuron094',\n",
       " 'inclParTMDV1_hidNeuron095',\n",
       " 'inclParTMDV1_hidNeuron096',\n",
       " 'inclParTMDV1_hidNeuron097',\n",
       " 'inclParTMDV1_hidNeuron098',\n",
       " 'inclParTMDV1_hidNeuron099',\n",
       " 'inclParTMDV1_hidNeuron100',\n",
       " 'inclParTMDV1_hidNeuron101',\n",
       " 'inclParTMDV1_hidNeuron102',\n",
       " 'inclParTMDV1_hidNeuron103',\n",
       " 'inclParTMDV1_hidNeuron104',\n",
       " 'inclParTMDV1_hidNeuron105',\n",
       " 'inclParTMDV1_hidNeuron106',\n",
       " 'inclParTMDV1_hidNeuron107',\n",
       " 'inclParTMDV1_hidNeuron108',\n",
       " 'inclParTMDV1_hidNeuron109',\n",
       " 'inclParTMDV1_hidNeuron110',\n",
       " 'inclParTMDV1_hidNeuron111',\n",
       " 'inclParTMDV1_hidNeuron112',\n",
       " 'inclParTMDV1_hidNeuron113',\n",
       " 'inclParTMDV1_hidNeuron114',\n",
       " 'inclParTMDV1_hidNeuron115',\n",
       " 'inclParTMDV1_hidNeuron116',\n",
       " 'inclParTMDV1_hidNeuron117',\n",
       " 'inclParTMDV1_hidNeuron118',\n",
       " 'inclParTMDV1_hidNeuron119',\n",
       " 'inclParTMDV1_hidNeuron120',\n",
       " 'inclParTMDV1_hidNeuron121',\n",
       " 'inclParTMDV1_hidNeuron122',\n",
       " 'inclParTMDV1_hidNeuron123',\n",
       " 'inclParTMDV1_hidNeuron124',\n",
       " 'inclParTMDV1_hidNeuron125',\n",
       " 'inclParTMDV1_hidNeuron126',\n",
       " 'inclParTMDV1_hidNeuron127',\n",
       " 'inclParTMDV1_mass',\n",
       " 'inclParTMDV1_probHWqqWev0c',\n",
       " 'inclParTMDV1_probHWqqWev1c',\n",
       " 'inclParTMDV1_probHWqqWmv0c',\n",
       " 'inclParTMDV1_probHWqqWmv1c',\n",
       " 'inclParTMDV1_probHWqqWq0c',\n",
       " 'inclParTMDV1_probHWqqWq1c',\n",
       " 'inclParTMDV1_probHWqqWq2c',\n",
       " 'inclParTMDV1_probHWqqWqq0c',\n",
       " 'inclParTMDV1_probHWqqWqq1c',\n",
       " 'inclParTMDV1_probHWqqWqq2c',\n",
       " 'inclParTMDV1_probHWqqWtauev0c',\n",
       " 'inclParTMDV1_probHWqqWtauev1c',\n",
       " 'inclParTMDV1_probHWqqWtauhv0c',\n",
       " 'inclParTMDV1_probHWqqWtauhv1c',\n",
       " 'inclParTMDV1_probHWqqWtaumv0c',\n",
       " 'inclParTMDV1_probHWqqWtaumv1c',\n",
       " 'inclParTMDV1_probHbb',\n",
       " 'inclParTMDV1_probHcc',\n",
       " 'inclParTMDV1_probHqq',\n",
       " 'inclParTMDV1_probHss',\n",
       " 'inclParTMDV1_probHtauhtaue',\n",
       " 'inclParTMDV1_probHtauhtauh',\n",
       " 'inclParTMDV1_probHtauhtaum',\n",
       " 'inclParTMDV1_probQCDb',\n",
       " 'inclParTMDV1_probQCDbb',\n",
       " 'inclParTMDV1_probQCDc',\n",
       " 'inclParTMDV1_probQCDcc',\n",
       " 'inclParTMDV1_probQCDothers',\n",
       " 'inclParTMDV1_probTopbWev',\n",
       " 'inclParTMDV1_probTopbWmv',\n",
       " 'inclParTMDV1_probTopbWq0c',\n",
       " 'inclParTMDV1_probTopbWq1c',\n",
       " 'inclParTMDV1_probTopbWqq0c',\n",
       " 'inclParTMDV1_probTopbWqq1c',\n",
       " 'inclParTMDV1_probTopbWtauev',\n",
       " 'inclParTMDV1_probTopbWtauhv',\n",
       " 'inclParTMDV1_probTopbWtaumv',\n",
       " 'mass',\n",
       " 'msoftdrop',\n",
       " 'n2b1',\n",
       " 'n3b1',\n",
       " 'particleNetMD_QCD',\n",
       " 'particleNetMD_Xbb',\n",
       " 'particleNetMD_Xcc',\n",
       " 'particleNetMD_Xqq',\n",
       " 'particleNet_H4qvsQCD',\n",
       " 'particleNet_HbbvsQCD',\n",
       " 'particleNet_HccvsQCD',\n",
       " 'particleNet_QCD',\n",
       " 'particleNet_TvsQCD',\n",
       " 'particleNet_WvsQCD',\n",
       " 'particleNet_ZvsQCD',\n",
       " 'phi',\n",
       " 'pt',\n",
       " 'rawFactor',\n",
       " 'tau1',\n",
       " 'tau2',\n",
       " 'tau3',\n",
       " 'tau4',\n",
       " 'lsf3',\n",
       " 'jetId',\n",
       " 'subJetIdx1',\n",
       " 'subJetIdx2',\n",
       " 'electronIdx3SJ',\n",
       " 'muonIdx3SJ',\n",
       " 'genJetAK8Idx',\n",
       " 'hadronFlavour',\n",
       " 'nBHadrons',\n",
       " 'nCHadrons',\n",
       " 'genJetAK8IdxG',\n",
       " 'subJetIdx1G',\n",
       " 'subJetIdx2G',\n",
       " 'subJetIdxG']"
      ]
     },
     "execution_count": 7,
     "metadata": {},
     "output_type": "execute_result"
    }
   ],
   "source": [
    "_events.FatJet.fields"
   ]
  },
  {
   "cell_type": "code",
   "execution_count": null,
   "metadata": {},
   "outputs": [
    {
     "data": {
      "text/html": [
       "<pre style=\"white-space:pre;overflow-x:auto;line-height:normal;font-family:Menlo,'DejaVu Sans Mono',consolas,'Courier New',monospace\"></pre>\n"
      ],
      "text/plain": [
       "\u001b[?25l"
      ]
     },
     "metadata": {},
     "output_type": "display_data"
    },
    {
     "data": {
      "application/vnd.jupyter.widget-view+json": {
       "model_id": "750ba09fd452472db39cad54fe170b16",
       "version_major": 2,
       "version_minor": 0
      },
      "text/plain": [
       "Output()"
      ]
     },
     "metadata": {},
     "output_type": "display_data"
    },
    {
     "data": {
      "text/html": [
       "<pre style=\"white-space:pre;overflow-x:auto;line-height:normal;font-family:Menlo,'DejaVu Sans Mono',consolas,'Courier New',monospace\">\n",
       "</pre>\n"
      ],
      "text/plain": [
       "\n",
       "\u001b[?25h"
      ]
     },
     "metadata": {},
     "output_type": "display_data"
    },
    {
     "data": {
      "text/html": [
       "<pre style=\"white-space:pre;overflow-x:auto;line-height:normal;font-family:Menlo,'DejaVu Sans Mono',consolas,'Courier New',monospace\"></pre>\n"
      ],
      "text/plain": [
       "\u001b[?25l"
      ]
     },
     "metadata": {},
     "output_type": "display_data"
    },
    {
     "data": {
      "application/vnd.jupyter.widget-view+json": {
       "model_id": "25d39e6caac04c249027cad1d787bb6e",
       "version_major": 2,
       "version_minor": 0
      },
      "text/plain": [
       "Output()"
      ]
     },
     "metadata": {},
     "output_type": "display_data"
    },
    {
     "data": {
      "text/html": [
       "<pre style=\"white-space:pre;overflow-x:auto;line-height:normal;font-family:Menlo,'DejaVu Sans Mono',consolas,'Courier New',monospace\">\n",
       "</pre>\n"
      ],
      "text/plain": [
       "\n",
       "\u001b[?25h"
      ]
     },
     "metadata": {},
     "output_type": "display_data"
    },
    {
     "name": "stderr",
     "output_type": "stream",
     "text": [
      "concurrent.futures.process._RemoteTraceback: \n",
      "\"\"\"\n",
      "Traceback (most recent call last):\n",
      "  File \"/home/pku/fudawei/anaconda3/lib/python3.9/site-packages/coffea/processor/executor.py\", line 1640, in _work_function\n",
      "    out = processor_instance.process(events)\n",
      "  File \"/data/pubfs/fudawei/NanoAnalysis/notebook/../src/processors/Processor.py\", line 333, in process\n",
      "    final_cut = self.preselect_HGamma()\n",
      "  File \"/data/pubfs/fudawei/NanoAnalysis/notebook/../src/processors/Processor.py\", line 284, in preselect_HGamma\n",
      "    Higgs_score = ak.sum([self.object['AK8jet'][f] for f in self.event.FatJet.fields if f.startswith('inclParTMDV1_probH')], axis=0, mask_identity=True)\n",
      "  File \"/home/pku/fudawei/anaconda3/lib/python3.9/site-packages/awkward/operations/reducers.py\", line 329, in sum\n",
      "    layout = ak.operations.convert.to_layout(\n",
      "  File \"/home/pku/fudawei/anaconda3/lib/python3.9/site-packages/awkward/operations/convert.py\", line 1930, in to_layout\n",
      "    return from_iter(array, highlevel=False)\n",
      "  File \"/home/pku/fudawei/anaconda3/lib/python3.9/site-packages/awkward/operations/convert.py\", line 893, in from_iter\n",
      "    out.fromiter(iterable)\n",
      "  File \"/home/pku/fudawei/anaconda3/lib/python3.9/site-packages/awkward/highlevel.py\", line 452, in tolist\n",
      "    return ak.operations.convert.to_list(self)\n",
      "  File \"/home/pku/fudawei/anaconda3/lib/python3.9/site-packages/awkward/operations/convert.py\", line 956, in to_list\n",
      "    return [to_list(x) for x in array]\n",
      "  File \"/home/pku/fudawei/anaconda3/lib/python3.9/site-packages/awkward/operations/convert.py\", line 956, in <listcomp>\n",
      "    return [to_list(x) for x in array]\n",
      "  File \"/home/pku/fudawei/anaconda3/lib/python3.9/site-packages/awkward/operations/convert.py\", line 956, in to_list\n",
      "    return [to_list(x) for x in array]\n",
      "  File \"/home/pku/fudawei/anaconda3/lib/python3.9/site-packages/awkward/operations/convert.py\", line 956, in <listcomp>\n",
      "    return [to_list(x) for x in array]\n",
      "  File \"/home/pku/fudawei/anaconda3/lib/python3.9/site-packages/awkward/highlevel.py\", line 575, in __iter__\n",
      "    for x in self.layout:\n",
      "  File \"/home/pku/fudawei/anaconda3/lib/python3.9/site-packages/awkward/operations/convert.py\", line 4745, in _form_to_layout\n",
      "    container[key_format(form_key=fk, attribute=\"data\", partition=partnum)]\n",
      "  File \"/home/pku/fudawei/anaconda3/lib/python3.9/site-packages/coffea/nanoevents/mapping/base.py\", line 90, in __getitem__\n",
      "    stack.append(self.extract_column(handle, start, stop))\n",
      "  File \"/home/pku/fudawei/anaconda3/lib/python3.9/site-packages/coffea/nanoevents/mapping/uproot.py\", line 149, in extract_column\n",
      "    return columnhandle.array(\n",
      "  File \"/home/pku/fudawei/anaconda3/lib/python3.9/site-packages/uproot/behaviors/TBranch.py\", line 2208, in array\n",
      "    _ranges_or_baskets_to_arrays(\n",
      "  File \"/home/pku/fudawei/anaconda3/lib/python3.9/site-packages/uproot/behaviors/TBranch.py\", line 3405, in _ranges_or_baskets_to_arrays\n",
      "    hasbranches._file.source.chunks(ranges, notifications=notifications)\n",
      "  File \"/home/pku/fudawei/anaconda3/lib/python3.9/site-packages/uproot/source/http.py\", line 621, in chunks\n",
      "    self.ResourceClass.multifuture(self, ranges, futures, results)\n",
      "  File \"/home/pku/fudawei/anaconda3/lib/python3.9/site-packages/uproot/source/http.py\", line 294, in multifuture\n",
      "    connection[0].request(\n",
      "  File \"/home/pku/fudawei/anaconda3/lib/python3.9/http/client.py\", line 1285, in request\n",
      "    self._send_request(method, url, body, headers, encode_chunked)\n",
      "  File \"/home/pku/fudawei/anaconda3/lib/python3.9/http/client.py\", line 1331, in _send_request\n",
      "    self.endheaders(body, encode_chunked=encode_chunked)\n",
      "  File \"/home/pku/fudawei/anaconda3/lib/python3.9/http/client.py\", line 1280, in endheaders\n",
      "    self._send_output(message_body, encode_chunked=encode_chunked)\n",
      "  File \"/home/pku/fudawei/anaconda3/lib/python3.9/http/client.py\", line 1040, in _send_output\n",
      "    self.send(msg)\n",
      "  File \"/home/pku/fudawei/anaconda3/lib/python3.9/http/client.py\", line 980, in send\n",
      "    self.connect()\n",
      "  File \"/home/pku/fudawei/anaconda3/lib/python3.9/http/client.py\", line 1447, in connect\n",
      "    super().connect()\n",
      "  File \"/home/pku/fudawei/anaconda3/lib/python3.9/http/client.py\", line 946, in connect\n",
      "    self.sock = self._create_connection(\n",
      "  File \"/home/pku/fudawei/anaconda3/lib/python3.9/socket.py\", line 823, in create_connection\n",
      "    for res in getaddrinfo(host, port, 0, SOCK_STREAM):\n",
      "  File \"/home/pku/fudawei/anaconda3/lib/python3.9/socket.py\", line 954, in getaddrinfo\n",
      "    for res in _socket.getaddrinfo(host, port, family, type, proto, flags):\n",
      "socket.gaierror: [Errno -2] Name or service not known\n",
      "\n",
      "The above exception was the direct cause of the following exception:\n",
      "\n",
      "Traceback (most recent call last):\n",
      "  File \"/home/pku/fudawei/anaconda3/lib/python3.9/concurrent/futures/process.py\", line 246, in _process_worker\n",
      "    r = call_item.fn(*call_item.args, **call_item.kwargs)\n",
      "  File \"/home/pku/fudawei/anaconda3/lib/python3.9/site-packages/coffea/processor/executor.py\", line 1353, in automatic_retries\n",
      "    raise e\n",
      "  File \"/home/pku/fudawei/anaconda3/lib/python3.9/site-packages/coffea/processor/executor.py\", line 1337, in automatic_retries\n",
      "    return func(*args, **kwargs)\n",
      "  File \"/home/pku/fudawei/anaconda3/lib/python3.9/site-packages/coffea/processor/executor.py\", line 1642, in _work_function\n",
      "    raise Exception(f\"Failed processing file: {item!r}\") from e\n",
      "Exception: Failed processing file: WorkItem(dataset='input', filename='https://stash.osgconnect.net/+fudawei/samples/mc/2018/ZpToHG/ZpToHGamma_M3500/merged.root', treename='Events', entrystart=0, entrystop=120000, fileuuid=b'NE0\\xd6\\xf4r\\x11\\xed\\x89\\xcb\\x85\\x06\\xb9\\xbc\\xbe\\xef', usermeta={})\n",
      "\"\"\"\n",
      "\n",
      "The above exception was the direct cause of the following exception:\n",
      "\n",
      "Traceback (most recent call last):\n",
      "  File \"/home/pku/fudawei/anaconda3/lib/python3.9/site-packages/coffea/processor/executor.py\", line 786, in _processwith\n",
      "    merged = _watcher(FH, self, reducer, pool)\n",
      "  File \"/home/pku/fudawei/anaconda3/lib/python3.9/site-packages/coffea/processor/executor.py\", line 402, in _watcher\n",
      "    batch = FH.fetch(len(FH.completed))\n",
      "  File \"/home/pku/fudawei/anaconda3/lib/python3.9/site-packages/coffea/processor/executor.py\", line 286, in fetch\n",
      "    raise bad_futures[0].exception()\n",
      "Exception: Failed processing file: WorkItem(dataset='input', filename='https://stash.osgconnect.net/+fudawei/samples/mc/2018/ZpToHG/ZpToHGamma_M3500/merged.root', treename='Events', entrystart=0, entrystop=120000, fileuuid=b'NE0\\xd6\\xf4r\\x11\\xed\\x89\\xcb\\x85\\x06\\xb9\\xbc\\xbe\\xef', usermeta={})\n"
     ]
    },
    {
     "ename": "Exception",
     "evalue": "Failed processing file: WorkItem(dataset='input', filename='https://stash.osgconnect.net/+fudawei/samples/mc/2018/ZpToHG/ZpToHGamma_M3500/merged.root', treename='Events', entrystart=0, entrystop=120000, fileuuid=b'NE0\\xd6\\xf4r\\x11\\xed\\x89\\xcb\\x85\\x06\\xb9\\xbc\\xbe\\xef', usermeta={})",
     "output_type": "error",
     "traceback": [
      "\u001b[0;31m---------------------------------------------------------------------------\u001b[0m",
      "\u001b[0;31mException\u001b[0m                                 Traceback (most recent call last)",
      "Cell \u001b[0;32mIn[4], line 9\u001b[0m\n\u001b[1;32m      1\u001b[0m run \u001b[39m=\u001b[39m processor\u001b[39m.\u001b[39mRunner(\n\u001b[1;32m      2\u001b[0m         executor\u001b[39m=\u001b[39mprocessor\u001b[39m.\u001b[39mFuturesExecutor(compression\u001b[39m=\u001b[39m\u001b[39mNone\u001b[39;00m, workers\u001b[39m=\u001b[39m\u001b[39m20\u001b[39m),\n\u001b[1;32m      3\u001b[0m         schema\u001b[39m=\u001b[39mNanoAODSchema,\n\u001b[0;32m   (...)\u001b[0m\n\u001b[1;32m      7\u001b[0m         \u001b[39m# maxchunks = None,\u001b[39;00m\n\u001b[1;32m      8\u001b[0m     )\n\u001b[0;32m----> 9\u001b[0m stats, metrics \u001b[39m=\u001b[39m run(\n\u001b[1;32m     10\u001b[0m     fileset\u001b[39m=\u001b[39;49m{\u001b[39m'\u001b[39;49m\u001b[39minput\u001b[39;49m\u001b[39m'\u001b[39;49m: [\u001b[39m'\u001b[39;49m\u001b[39mhttps://stash.osgconnect.net/+fudawei/samples/mc/2018/ZpToHG/ZpToHGamma_M3500/merged.root\u001b[39;49m\u001b[39m'\u001b[39;49m]},\n\u001b[1;32m     11\u001b[0m     treename\u001b[39m=\u001b[39;49m\u001b[39m'\u001b[39;49m\u001b[39mEvents\u001b[39;49m\u001b[39m'\u001b[39;49m,\n\u001b[1;32m     12\u001b[0m     processor_instance\u001b[39m=\u001b[39;49mProcessor(mode\u001b[39m=\u001b[39;49m\u001b[39m'\u001b[39;49m\u001b[39mmc_2018_ZpToHG\u001b[39;49m\u001b[39m'\u001b[39;49m, outdir\u001b[39m=\u001b[39;49m\u001b[39m'\u001b[39;49m\u001b[39m./test\u001b[39;49m\u001b[39m'\u001b[39;49m, param_dir\u001b[39m=\u001b[39;49m\u001b[39m'\u001b[39;49m\u001b[39m../src/parameters/\u001b[39;49m\u001b[39m'\u001b[39;49m),\n\u001b[1;32m     13\u001b[0m )\n",
      "File \u001b[0;32m~/anaconda3/lib/python3.9/site-packages/coffea/processor/executor.py:1686\u001b[0m, in \u001b[0;36mRunner.__call__\u001b[0;34m(self, fileset, treename, processor_instance)\u001b[0m\n\u001b[1;32m   1665\u001b[0m \u001b[39mdef\u001b[39;00m \u001b[39m__call__\u001b[39m(\n\u001b[1;32m   1666\u001b[0m     \u001b[39mself\u001b[39m,\n\u001b[1;32m   1667\u001b[0m     fileset: Dict,\n\u001b[1;32m   1668\u001b[0m     treename: \u001b[39mstr\u001b[39m,\n\u001b[1;32m   1669\u001b[0m     processor_instance: ProcessorABC,\n\u001b[1;32m   1670\u001b[0m ) \u001b[39m-\u001b[39m\u001b[39m>\u001b[39m Accumulatable:\n\u001b[1;32m   1671\u001b[0m \u001b[39m    \u001b[39m\u001b[39m\"\"\"Run the processor_instance on a given fileset\u001b[39;00m\n\u001b[1;32m   1672\u001b[0m \n\u001b[1;32m   1673\u001b[0m \u001b[39m    Parameters\u001b[39;00m\n\u001b[0;32m   (...)\u001b[0m\n\u001b[1;32m   1683\u001b[0m \u001b[39m            An instance of a class deriving from ProcessorABC\u001b[39;00m\n\u001b[1;32m   1684\u001b[0m \u001b[39m    \"\"\"\u001b[39;00m\n\u001b[0;32m-> 1686\u001b[0m     wrapped_out \u001b[39m=\u001b[39m \u001b[39mself\u001b[39;49m\u001b[39m.\u001b[39;49mrun(fileset, processor_instance, treename)\n\u001b[1;32m   1687\u001b[0m     \u001b[39mif\u001b[39;00m \u001b[39mself\u001b[39m\u001b[39m.\u001b[39muse_dataframes:\n\u001b[1;32m   1688\u001b[0m         \u001b[39mreturn\u001b[39;00m wrapped_out  \u001b[39m# not wrapped anymore\u001b[39;00m\n",
      "File \u001b[0;32m~/anaconda3/lib/python3.9/site-packages/coffea/processor/executor.py:1834\u001b[0m, in \u001b[0;36mRunner.run\u001b[0;34m(self, fileset, processor_instance, treename)\u001b[0m\n\u001b[1;32m   1829\u001b[0m closure \u001b[39m=\u001b[39m partial(\n\u001b[1;32m   1830\u001b[0m     \u001b[39mself\u001b[39m\u001b[39m.\u001b[39mautomatic_retries, \u001b[39mself\u001b[39m\u001b[39m.\u001b[39mretries, \u001b[39mself\u001b[39m\u001b[39m.\u001b[39mskipbadfiles, closure\n\u001b[1;32m   1831\u001b[0m )\n\u001b[1;32m   1833\u001b[0m executor \u001b[39m=\u001b[39m \u001b[39mself\u001b[39m\u001b[39m.\u001b[39mexecutor\u001b[39m.\u001b[39mcopy(\u001b[39m*\u001b[39m\u001b[39m*\u001b[39mexe_args)\n\u001b[0;32m-> 1834\u001b[0m wrapped_out, e \u001b[39m=\u001b[39m executor(chunks, closure, \u001b[39mNone\u001b[39;49;00m)\n\u001b[1;32m   1835\u001b[0m \u001b[39mif\u001b[39;00m wrapped_out \u001b[39mis\u001b[39;00m \u001b[39mNone\u001b[39;00m:\n\u001b[1;32m   1836\u001b[0m     \u001b[39mraise\u001b[39;00m \u001b[39mValueError\u001b[39;00m(\n\u001b[1;32m   1837\u001b[0m         \u001b[39m\"\u001b[39m\u001b[39mNo chunks returned results, verify ``processor`` instance structure.\u001b[39m\u001b[39m\\n\u001b[39;00m\u001b[39m\\\u001b[39;00m\n\u001b[1;32m   1838\u001b[0m \u001b[39m        if you used skipbadfiles=True, it is possible all your files are bad.\u001b[39m\u001b[39m\"\u001b[39m\n\u001b[1;32m   1839\u001b[0m     )\n",
      "File \u001b[0;32m~/anaconda3/lib/python3.9/site-packages/coffea/processor/executor.py:818\u001b[0m, in \u001b[0;36mFuturesExecutor.__call__\u001b[0;34m(self, items, function, accumulator)\u001b[0m\n\u001b[1;32m    816\u001b[0m \u001b[39melse\u001b[39;00m:\n\u001b[1;32m    817\u001b[0m     mergepoolinstance \u001b[39m=\u001b[39m \u001b[39mNone\u001b[39;00m\n\u001b[0;32m--> 818\u001b[0m \u001b[39mreturn\u001b[39;00m _processwith(pool\u001b[39m=\u001b[39;49mpoolinstance, mergepool\u001b[39m=\u001b[39;49mmergepoolinstance)\n",
      "File \u001b[0;32m~/anaconda3/lib/python3.9/site-packages/coffea/processor/executor.py:802\u001b[0m, in \u001b[0;36mFuturesExecutor.__call__.<locals>._processwith\u001b[0;34m(pool, mergepool)\u001b[0m\n\u001b[1;32m    799\u001b[0m     \u001b[39mreturn\u001b[39;00m accumulate([_decompress(merged), accumulator]), e\n\u001b[1;32m    800\u001b[0m \u001b[39melse\u001b[39;00m:\n\u001b[0;32m--> 802\u001b[0m     \u001b[39mraise\u001b[39;00m e \u001b[39mfrom\u001b[39;00m \u001b[39mNone\u001b[39m\n",
      "File \u001b[0;32m~/anaconda3/lib/python3.9/site-packages/coffea/processor/executor.py:786\u001b[0m, in \u001b[0;36mFuturesExecutor.__call__.<locals>._processwith\u001b[0;34m(pool, mergepool)\u001b[0m\n\u001b[1;32m    784\u001b[0m \u001b[39mtry\u001b[39;00m:\n\u001b[1;32m    785\u001b[0m     \u001b[39mif\u001b[39;00m mergepool \u001b[39mis\u001b[39;00m \u001b[39mNone\u001b[39;00m:\n\u001b[0;32m--> 786\u001b[0m         merged \u001b[39m=\u001b[39m _watcher(FH, \u001b[39mself\u001b[39;49m, reducer, pool)\n\u001b[1;32m    787\u001b[0m     \u001b[39melse\u001b[39;00m:\n\u001b[1;32m    788\u001b[0m         merged \u001b[39m=\u001b[39m _watcher(FH, \u001b[39mself\u001b[39m, reducer, mergepool)\n",
      "File \u001b[0;32m~/anaconda3/lib/python3.9/site-packages/coffea/processor/executor.py:402\u001b[0m, in \u001b[0;36m_watcher\u001b[0;34m(FH, executor, merge_fcn, pool)\u001b[0m\n\u001b[1;32m    396\u001b[0m             progress\u001b[39m.\u001b[39mupdate(\n\u001b[1;32m    397\u001b[0m                 p_idm,\n\u001b[1;32m    398\u001b[0m                 total\u001b[39m=\u001b[39mprogress\u001b[39m.\u001b[39m_tasks[p_idm]\u001b[39m.\u001b[39mtotal \u001b[39m+\u001b[39m \u001b[39m1\u001b[39m,\n\u001b[1;32m    399\u001b[0m                 refresh\u001b[39m=\u001b[39m\u001b[39mTrue\u001b[39;00m,\n\u001b[1;32m    400\u001b[0m             )\n\u001b[1;32m    401\u001b[0m     \u001b[39melse\u001b[39;00m:  \u001b[39m# Merge within process\u001b[39;00m\n\u001b[0;32m--> 402\u001b[0m         batch \u001b[39m=\u001b[39m FH\u001b[39m.\u001b[39;49mfetch(\u001b[39mlen\u001b[39;49m(FH\u001b[39m.\u001b[39;49mcompleted))\n\u001b[1;32m    403\u001b[0m         merged \u001b[39m=\u001b[39m _compress(\n\u001b[1;32m    404\u001b[0m             accumulate(\n\u001b[1;32m    405\u001b[0m                 progress\u001b[39m.\u001b[39mtrack(\n\u001b[0;32m   (...)\u001b[0m\n\u001b[1;32m    412\u001b[0m             executor\u001b[39m.\u001b[39mcompression,\n\u001b[1;32m    413\u001b[0m         )\n\u001b[1;32m    414\u001b[0m \u001b[39m# Add checkpointing\u001b[39;00m\n",
      "File \u001b[0;32m~/anaconda3/lib/python3.9/site-packages/coffea/processor/executor.py:286\u001b[0m, in \u001b[0;36m_FuturesHolder.fetch\u001b[0;34m(self, N)\u001b[0m\n\u001b[1;32m    284\u001b[0m bad_futures \u001b[39m=\u001b[39m [future \u001b[39mfor\u001b[39;00m future \u001b[39min\u001b[39;00m _completed \u001b[39mif\u001b[39;00m \u001b[39mnot\u001b[39;00m _good_future(future)]\n\u001b[1;32m    285\u001b[0m \u001b[39mself\u001b[39m\u001b[39m.\u001b[39mcompleted\u001b[39m.\u001b[39mupdate(good_futures)\n\u001b[0;32m--> 286\u001b[0m \u001b[39mraise\u001b[39;00m bad_futures[\u001b[39m0\u001b[39m]\u001b[39m.\u001b[39mexception()\n",
      "\u001b[0;31mException\u001b[0m: Failed processing file: WorkItem(dataset='input', filename='https://stash.osgconnect.net/+fudawei/samples/mc/2018/ZpToHG/ZpToHGamma_M3500/merged.root', treename='Events', entrystart=0, entrystop=120000, fileuuid=b'NE0\\xd6\\xf4r\\x11\\xed\\x89\\xcb\\x85\\x06\\xb9\\xbc\\xbe\\xef', usermeta={})"
     ]
    }
   ],
   "source": [
    "run = processor.Runner(\n",
    "        executor=processor.FuturesExecutor(compression=None, workers=20),\n",
    "        schema=NanoAODSchema,\n",
    "        savemetrics=True,\n",
    "        xrootdtimeout=60 * 30,\n",
    "        # chunksize = 100_000,\n",
    "        # maxchunks = None,\n",
    "    )\n",
    "stats, metrics = run(\n",
    "    fileset={'input': ['https://stash.osgconnect.net/+fudawei/samples/mc/2018/ZpToHG/ZpToHGamma_M3500/merged.root']},\n",
    "    treename='Events',\n",
    "    processor_instance=Processor(mode='mc_2018_ZpToHG', outdir='./test', param_dir='../src/parameters/'),\n",
    ")"
   ]
  },
  {
   "cell_type": "code",
   "execution_count": 19,
   "metadata": {},
   "outputs": [
    {
     "data": {
      "text/plain": [
       "{-4332,\n",
       " -4232,\n",
       " -4132,\n",
       " -4122,\n",
       " -431,\n",
       " -421,\n",
       " -411,\n",
       " -321,\n",
       " -311,\n",
       " -211,\n",
       " -14,\n",
       " -13,\n",
       " -12,\n",
       " -11,\n",
       " 11,\n",
       " 12,\n",
       " 13,\n",
       " 14,\n",
       " 21,\n",
       " 22,\n",
       " 211,\n",
       " 321,\n",
       " 323,\n",
       " 411,\n",
       " 421,\n",
       " 431,\n",
       " 441,\n",
       " 443,\n",
       " 4122,\n",
       " 4232,\n",
       " 4332}"
      ]
     },
     "execution_count": 19,
     "metadata": {},
     "output_type": "execute_result"
    }
   ],
   "source": [
    "set(ak.flatten(_events.GenPart[_events.Photon.genPartIdx].pdgId))"
   ]
  },
  {
   "cell_type": "code",
   "execution_count": 18,
   "metadata": {},
   "outputs": [
    {
     "data": {
      "text/plain": [
       "{-11, 11, 22}"
      ]
     },
     "execution_count": 18,
     "metadata": {},
     "output_type": "execute_result"
    }
   ],
   "source": [
    "set(ak.flatten(_events.GenPart[_events.Photon.genPartIdx[_events.Photon.genPartIdx!=-1]].pdgId))"
   ]
  },
  {
   "cell_type": "code",
   "execution_count": 15,
   "metadata": {},
   "outputs": [
    {
     "data": {
      "text/plain": [
       "GenParticle"
      ]
     },
     "execution_count": 15,
     "metadata": {},
     "output_type": "execute_result"
    }
   ],
   "source": [
    "_events.GenPart[0][-1]"
   ]
  },
  {
   "cell_type": "code",
   "execution_count": 4,
   "metadata": {},
   "outputs": [
    {
     "ename": "ValueError",
     "evalue": "axis=1 exceeds the depth of the nested list structure (which is 1)\n\n(https://github.com/scikit-hep/awkward-1.0/blob/1.10.2/src/libawkward/Content.cpp#L1061)",
     "output_type": "error",
     "traceback": [
      "\u001b[0;31m---------------------------------------------------------------------------\u001b[0m",
      "\u001b[0;31mValueError\u001b[0m                                Traceback (most recent call last)",
      "\u001b[0;32m/tmp/ipykernel_2581843/2568186678.py\u001b[0m in \u001b[0;36m<module>\u001b[0;34m\u001b[0m\n\u001b[0;32m----> 1\u001b[0;31m ak.argmax(\n\u001b[0m\u001b[1;32m      2\u001b[0m     \u001b[0;34m[\u001b[0m\u001b[0;32mNone\u001b[0m\u001b[0;34m,\u001b[0m \u001b[0;32mNone\u001b[0m\u001b[0;34m,\u001b[0m \u001b[0;32mNone\u001b[0m\u001b[0;34m]\u001b[0m\u001b[0;34m,\u001b[0m \u001b[0maxis\u001b[0m\u001b[0;34m=\u001b[0m\u001b[0;36m1\u001b[0m\u001b[0;34m,\u001b[0m \u001b[0mkeepdims\u001b[0m\u001b[0;34m=\u001b[0m\u001b[0;32mTrue\u001b[0m\u001b[0;34m,\u001b[0m \u001b[0mmask_identity\u001b[0m\u001b[0;34m=\u001b[0m\u001b[0;32mFalse\u001b[0m\u001b[0;34m\u001b[0m\u001b[0;34m\u001b[0m\u001b[0m\n\u001b[1;32m      3\u001b[0m )\n",
      "\u001b[0;32m~/anaconda3/lib/python3.9/site-packages/awkward/operations/reducers.py\u001b[0m in \u001b[0;36margmax\u001b[0;34m(array, axis, keepdims, mask_identity)\u001b[0m\n\u001b[1;32m    833\u001b[0m         \u001b[0mbehavior\u001b[0m \u001b[0;34m=\u001b[0m \u001b[0mak\u001b[0m\u001b[0;34m.\u001b[0m\u001b[0m_util\u001b[0m\u001b[0;34m.\u001b[0m\u001b[0mbehaviorof\u001b[0m\u001b[0;34m(\u001b[0m\u001b[0marray\u001b[0m\u001b[0;34m)\u001b[0m\u001b[0;34m\u001b[0m\u001b[0;34m\u001b[0m\u001b[0m\n\u001b[1;32m    834\u001b[0m         return ak._util.wrap(\n\u001b[0;32m--> 835\u001b[0;31m             \u001b[0mlayout\u001b[0m\u001b[0;34m.\u001b[0m\u001b[0margmax\u001b[0m\u001b[0;34m(\u001b[0m\u001b[0maxis\u001b[0m\u001b[0;34m=\u001b[0m\u001b[0maxis\u001b[0m\u001b[0;34m,\u001b[0m \u001b[0mmask\u001b[0m\u001b[0;34m=\u001b[0m\u001b[0mmask_identity\u001b[0m\u001b[0;34m,\u001b[0m \u001b[0mkeepdims\u001b[0m\u001b[0;34m=\u001b[0m\u001b[0mkeepdims\u001b[0m\u001b[0;34m)\u001b[0m\u001b[0;34m,\u001b[0m \u001b[0mbehavior\u001b[0m\u001b[0;34m\u001b[0m\u001b[0;34m\u001b[0m\u001b[0m\n\u001b[0m\u001b[1;32m    836\u001b[0m         )\n\u001b[1;32m    837\u001b[0m \u001b[0;34m\u001b[0m\u001b[0m\n",
      "\u001b[0;31mValueError\u001b[0m: axis=1 exceeds the depth of the nested list structure (which is 1)\n\n(https://github.com/scikit-hep/awkward-1.0/blob/1.10.2/src/libawkward/Content.cpp#L1061)"
     ]
    }
   ],
   "source": [
    "ak.argmax(\n",
    "    [None, None, None], axis=1, keepdims=True, mask_identity=False\n",
    ")"
   ]
  },
  {
   "cell_type": "code",
   "execution_count": 6,
   "metadata": {},
   "outputs": [],
   "source": [
    "a=ak.from_parquet('./test/22737784-5359-11ed-a3a4-0245010abeef_Events_0-37337.parq')"
   ]
  },
  {
   "cell_type": "code",
   "execution_count": 8,
   "metadata": {},
   "outputs": [
    {
     "data": {
      "text/plain": [
       "<Array [0] type='1 * ?int64'>"
      ]
     },
     "execution_count": 8,
     "metadata": {},
     "output_type": "execute_result"
    }
   ],
   "source": [
    "a.AK8jet_rankToHiggsMass"
   ]
  },
  {
   "cell_type": "code",
   "execution_count": 11,
   "metadata": {},
   "outputs": [
    {
     "ename": "SyntaxError",
     "evalue": "invalid syntax (726123375.py, line 12)",
     "output_type": "error",
     "traceback": [
      "\u001b[0;36m  File \u001b[0;32m\"/tmp/dfu/ipykernel_23308/726123375.py\"\u001b[0;36m, line \u001b[0;32m12\u001b[0m\n\u001b[0;31m    processor_instance = Processor(mode='data_2017_SinglePhoton', outdir='./test/', param_dir='../src/parameters/'),\u001b[0m\n\u001b[0m    ^\u001b[0m\n\u001b[0;31mSyntaxError\u001b[0m\u001b[0;31m:\u001b[0m invalid syntax\n"
     ]
    }
   ],
   "source": [
    "run = processor.Runner(\n",
    "    executor = processor.FuturesExecutor(compression=None, workers=1),\n",
    "    schema = NanoAODSchema,\n",
    "    savemetrics = True,\n",
    "    xrootdtimeout = 60 * 30,\n",
    "    #chunksize = 100_000,\n",
    "    #maxchunks = 1,\n",
    ")\n",
    "stats, metrics = run(\n",
    "    fileset = {'input': ['root://cms-xrd-global.cern.ch//store/data/Run2017B/SinglePhoton/NANOAOD/UL2017_MiniAODv2_NanoAODv9-v1/120000/4DEB63D4-999D-7946-AF29-BB04A0CBC247.root']},\n",
    "    treename = 'Events',\n",
    "    processor_instance = Processor(mode='data_2017_SinglePhoton', outdir='./test/', param_dir='../src/parameters/'),\n",
    ")"
   ]
  },
  {
   "cell_type": "code",
   "execution_count": 10,
   "metadata": {},
   "outputs": [
    {
     "data": {
      "text/plain": [
       "{'data_2017_SinglePhoton': {'n_events': 10026.0,\n",
       "  'triggered': 1127.0,\n",
       "  'filtered': 1079.0,\n",
       "  'photon': 104.0,\n",
       "  'AK8jet': 24.0,\n",
       "  '2018_HEM_correction': 24.0,\n",
       "  'photon-jet_cleaning': 16.0,\n",
       "  'b-veto': 13.0}}"
      ]
     },
     "execution_count": 10,
     "metadata": {},
     "output_type": "execute_result"
    }
   ],
   "source": [
    "stats"
   ]
  },
  {
   "cell_type": "code",
   "execution_count": 10,
   "metadata": {},
   "outputs": [],
   "source": [
    "correction = correctionlib.CorrectionSet.from_file(p.pile_up['json'][p.year])[p.pile_up['key'][p.year]]"
   ]
  },
  {
   "cell_type": "code",
   "execution_count": 17,
   "metadata": {},
   "outputs": [],
   "source": [
    "_events = NanoEventsFactory.from_root(\n",
    "    #file='root://cms-xrd-global.cern.ch//store/mc/RunIISummer20UL18NanoAODv9/GJets_HT-400To600_TuneCP5_13TeV-madgraphMLM-pythia8/NANOAODSIM/106X_upgrade2018_realistic_v16_L1v1-v1/2550000/4DEF4AA9-9736-594E-AB77-3F33D317DDBF.root',\n",
    "    file = 'https://stash.osgconnect.net/+fudawei/samples/mc/2018/ZpToHG/ZpToHGamma_M2000/0/mc2018.root',\n",
    "    #file='https://stash.osgconnect.net/+yuzhe/0lepton/custom_nano/V2/2018/HG/QCD_HT300to500_TuneCP5_13TeV-madgraphMLM-pythia8_RunIISummer20UL18MiniAODv2-106X_upgrade2018_realistic_v16_L1v1-v2/out_101.root',\n",
    "    treepath='Events', schemaclass=NanoAODSchema\n",
    ").events()"
   ]
  },
  {
   "cell_type": "code",
   "execution_count": 46,
   "metadata": {},
   "outputs": [
    {
     "data": {
      "text/plain": [
       "<FatJetArray [[FatJet], [FatJet, ... [FatJet]] type='1000 * option[var * fatJet]'>"
      ]
     },
     "execution_count": 46,
     "metadata": {},
     "output_type": "execute_result"
    }
   ],
   "source": [
    "_events.FatJet[ak.argmax(_events.FatJet.inclParTMDV1_probHWqqWev1c, axis=1)]"
   ]
  },
  {
   "cell_type": "code",
   "execution_count": 22,
   "metadata": {},
   "outputs": [
    {
     "data": {
      "text/plain": [
       "\"\\n 'inclParTMDV1_probHWqqWev0c',\\n 'inclParTMDV1_probHWqqWev1c',\\n 'inclParTMDV1_probHWqqWmv0c',\\n 'inclParTMDV1_probHWqqWmv1c',\\n 'inclParTMDV1_probHWqqWq0c',\\n 'inclParTMDV1_probHWqqWq1c',\\n 'inclParTMDV1_probHWqqWq2c',\\n 'inclParTMDV1_probHWqqWqq0c',\\n 'inclParTMDV1_probHWqqWqq1c',\\n 'inclParTMDV1_probHWqqWqq2c',\\n 'inclParTMDV1_probHWqqWtauev0c',\\n 'inclParTMDV1_probHWqqWtauev1c',\\n 'inclParTMDV1_probHWqqWtauhv0c',\\n 'inclParTMDV1_probHWqqWtauhv1c',\\n 'inclParTMDV1_probHWqqWtaumv0c',\\n 'inclParTMDV1_probHWqqWtaumv1c',\\n 'inclParTMDV1_probHbb',\\n 'inclParTMDV1_probHcc',\\n 'inclParTMDV1_probHqq',\\n 'inclParTMDV1_probHss',\\n 'inclParTMDV1_probHtauhtaue',\\n 'inclParTMDV1_probHtauhtauh',\\n 'inclParTMDV1_probHtauhtaum',\\n\""
      ]
     },
     "execution_count": 22,
     "metadata": {},
     "output_type": "execute_result"
    }
   ],
   "source": [
    "\"\"\"\n",
    " 'inclParTMDV1_probHWqqWev0c',\n",
    " 'inclParTMDV1_probHWqqWev1c',\n",
    " 'inclParTMDV1_probHWqqWmv0c',\n",
    " 'inclParTMDV1_probHWqqWmv1c',\n",
    " 'inclParTMDV1_probHWqqWq0c',\n",
    " 'inclParTMDV1_probHWqqWq1c',\n",
    " 'inclParTMDV1_probHWqqWq2c',\n",
    " 'inclParTMDV1_probHWqqWqq0c',\n",
    " 'inclParTMDV1_probHWqqWqq1c',\n",
    " 'inclParTMDV1_probHWqqWqq2c',\n",
    " 'inclParTMDV1_probHWqqWtauev0c',\n",
    " 'inclParTMDV1_probHWqqWtauev1c',\n",
    " 'inclParTMDV1_probHWqqWtauhv0c',\n",
    " 'inclParTMDV1_probHWqqWtauhv1c',\n",
    " 'inclParTMDV1_probHWqqWtaumv0c',\n",
    " 'inclParTMDV1_probHWqqWtaumv1c',\n",
    " 'inclParTMDV1_probHbb',\n",
    " 'inclParTMDV1_probHcc',\n",
    " 'inclParTMDV1_probHqq',\n",
    " 'inclParTMDV1_probHss',\n",
    " 'inclParTMDV1_probHtauhtaue',\n",
    " 'inclParTMDV1_probHtauhtauh',\n",
    " 'inclParTMDV1_probHtauhtaum',\n",
    "\"\"\""
   ]
  },
  {
   "cell_type": "code",
   "execution_count": 3,
   "metadata": {},
   "outputs": [
    {
     "data": {
      "text/plain": [
       "<Array [0, 1, 1, 1, 1, 1, ... 1, 1, 0, 1, 0, 1] type='1000 * ?int64'>"
      ]
     },
     "execution_count": 3,
     "metadata": {},
     "output_type": "execute_result"
    }
   ],
   "source": [
    "ak.argmax(ak.sum([_events.FatJet[f] for f in _events.FatJet.fields if f.startswith('inclParTMDV1_probH')], axis=0), axis=1)"
   ]
  },
  {
   "cell_type": "code",
   "execution_count": 38,
   "metadata": {},
   "outputs": [],
   "source": [
    "c=ak.Array([_events.FatJet[f] for f in _events.FatJet.fields if f.startswith('inclParTMDV1_probH')])"
   ]
  },
  {
   "cell_type": "code",
   "execution_count": 42,
   "metadata": {},
   "outputs": [
    {
     "data": {
      "text/plain": [
       "<Array [1, 2, 3, 0] type='4 * int64'>"
      ]
     },
     "execution_count": 42,
     "metadata": {},
     "output_type": "execute_result"
    }
   ],
   "source": [
    "ak.argsort(ak.argsort([1.5,2,3,0]))"
   ]
  },
  {
   "cell_type": "code",
   "execution_count": 26,
   "metadata": {},
   "outputs": [
    {
     "data": {
      "text/plain": [
       "array([0.91870999, 1.00662441, 0.98739476, ..., 1.00883794, 1.16807473,\n",
       "       1.02087936])"
      ]
     },
     "execution_count": 26,
     "metadata": {},
     "output_type": "execute_result"
    }
   ],
   "source": [
    "correction.evaluate(np.array(_events.Pileup.nPU), 'nominal')"
   ]
  },
  {
   "cell_type": "code",
   "execution_count": 3,
   "metadata": {},
   "outputs": [
    {
     "ename": "TypeError",
     "evalue": "__call__() got an unexpected keyword argument 'entrystart'",
     "output_type": "error",
     "traceback": [
      "\u001b[0;31m---------------------------------------------------------------------------\u001b[0m",
      "\u001b[0;31mTypeError\u001b[0m                                 Traceback (most recent call last)",
      "\u001b[0;32m/tmp/dfu/ipykernel_15763/2700830965.py\u001b[0m in \u001b[0;36m<module>\u001b[0;34m\u001b[0m\n\u001b[1;32m      7\u001b[0m     \u001b[0;31m#maxchunks = 1,\u001b[0m\u001b[0;34m\u001b[0m\u001b[0;34m\u001b[0m\u001b[0;34m\u001b[0m\u001b[0m\n\u001b[1;32m      8\u001b[0m )\n\u001b[0;32m----> 9\u001b[0;31m stats, metrics = run(\n\u001b[0m\u001b[1;32m     10\u001b[0m     \u001b[0mfileset\u001b[0m \u001b[0;34m=\u001b[0m \u001b[0;34m{\u001b[0m\u001b[0;34m'input'\u001b[0m\u001b[0;34m:\u001b[0m \u001b[0;34m[\u001b[0m\u001b[0;34m'/eos/cms/store/data/Run2016B/SinglePhoton/NANOAOD/ver2_HIPM_UL2016_MiniAODv2_NanoAODv9-v2/2430000/0BC6889E-78AB-D54A-9DAC-DD961CED79FE.root'\u001b[0m\u001b[0;34m]\u001b[0m\u001b[0;34m}\u001b[0m\u001b[0;34m,\u001b[0m\u001b[0;34m\u001b[0m\u001b[0;34m\u001b[0m\u001b[0m\n\u001b[1;32m     11\u001b[0m     \u001b[0mtreename\u001b[0m \u001b[0;34m=\u001b[0m \u001b[0;34m'Events'\u001b[0m\u001b[0;34m,\u001b[0m \u001b[0mentrystart\u001b[0m\u001b[0;34m=\u001b[0m\u001b[0;36m783504\u001b[0m\u001b[0;34m,\u001b[0m \u001b[0mentrystop\u001b[0m\u001b[0;34m=\u001b[0m\u001b[0;36m881442\u001b[0m\u001b[0;34m,\u001b[0m\u001b[0;34m\u001b[0m\u001b[0;34m\u001b[0m\u001b[0m\n",
      "\u001b[0;31mTypeError\u001b[0m: __call__() got an unexpected keyword argument 'entrystart'"
     ]
    }
   ],
   "source": [
    "run=processor.Runner(\n",
    "    executor = processor.FuturesExecutor(compression=None, workers=1),\n",
    "    schema = NanoAODSchema,\n",
    "    savemetrics = True,\n",
    "    xrootdtimeout = 60 * 30,\n",
    "    #chunksize = 10,\n",
    "    #maxchunks = 1,\n",
    ")\n",
    "stats, metrics = run(\n",
    "    fileset = {'input': ['/eos/cms/store/data/Run2016B/SinglePhoton/NANOAOD/ver2_HIPM_UL2016_MiniAODv2_NanoAODv9-v2/2430000/0BC6889E-78AB-D54A-9DAC-DD961CED79FE.root']},\n",
    "    treename = 'Events',\n",
    "    processor_instance = Processor(mode='mc_2018_ZpToHG', outdir='./', param_dir='../src/parameters/'),\n",
    ")"
   ]
  },
  {
   "cell_type": "code",
   "execution_count": 40,
   "metadata": {},
   "outputs": [],
   "source": [
    "s = _events.GenPart[\n",
    "    (abs(_events.GenPart.pdgId) == 9906663) &\n",
    "    _events.GenPart.hasFlags([\"fromHardProcess\", \"isLastCopy\"])\n",
    "]"
   ]
  },
  {
   "cell_type": "code",
   "execution_count": 51,
   "metadata": {},
   "outputs": [],
   "source": [
    "_events = NanoEventsFactory.from_root(\n",
    "    file='root://cms-xrd-global.cern.ch//store/mc/RunIIAutumn18NanoAODv7/ZpToHGamma_M1400_13TeV_TuneCP5_madgraph-pythia8/NANOAODSIM/Nano02Apr2020_102X_upgrade2018_realistic_v21-v1/250000/9FCD7BF6-406A-F34A-9AA9-7790134908D8.root',\n",
    "    treepath='Events', schemaclass=NanoAODSchema\n",
    ").events()"
   ]
  },
  {
   "cell_type": "code",
   "execution_count": 23,
   "metadata": {},
   "outputs": [
    {
     "data": {
      "text/plain": [
       "<Array [None, None, None, ... None, None, None] type='456 * option[var * ?float3...'>"
      ]
     },
     "execution_count": 23,
     "metadata": {},
     "output_type": "execute_result"
    }
   ],
   "source": [
    "p.variables['gen_Zp_mass'][~(ak.num(p.variables['gen_Zp_mass'], axis=1)==1)]"
   ]
  },
  {
   "cell_type": "code",
   "execution_count": 10,
   "metadata": {},
   "outputs": [],
   "source": [
    "for i in p.variables.keys():\n",
    "    if 'Zp_' in i:\n",
    "        p.variables[i] = ak.flatten(p.variables[i], axis=1)"
   ]
  },
  {
   "cell_type": "code",
   "execution_count": 11,
   "metadata": {},
   "outputs": [
    {
     "data": {
      "text/plain": [
       "{'AK8jet_mass': <Array [130, 120, 117, 133, ... 135, 138, 100] type='23185 * ?float32[parameters...'>,\n",
       " 'AK8jet_phi': <Array [-2.75, 0.247, 1.47, ... 1.59, -2.2] type='23185 * ?float32[parameters={\"...'>,\n",
       " 'AK8jet_eta': <Array [-0.317, -1.09, ... -0.987, 0.951] type='23185 * ?float32[parameters={\"__...'>,\n",
       " 'AK8jet_msoftdrop': <Array [124, 120, 114, 132, ... 112, 136, 99.2] type='23185 * ?float32[parameter...'>,\n",
       " 'AK8jet_pt': <Array [690, 494, 596, 718, ... 628, 686, 606] type='23185 * ?float32[parameters...'>,\n",
       " 'photon_phi': <Array [0.361, -2.89, -1.63, ... -1.54, 1.48] type='23185 * ?float32[parameters=...'>,\n",
       " 'photon_mass': <Array [0, 0, 0, 0, 0, 0, ... 0, 0, 0, 0, 0, 0] type='23185 * ?float32'>,\n",
       " 'photon_pt': <Array [681, 611, 670, 624, ... 653, 691, 326] type='23185 * ?float32[parameters...'>,\n",
       " 'photon_eta': <Array [-0.178, -0.185, ... -0.653, -0.839] type='23185 * ?float32[parameters={\"...'>,\n",
       " 'event_MET_pt': <Array [16.4, 46.9, 134, ... 120, 15.6, 186] type='23185 * ?float32[parameters={...'>,\n",
       " 'event_genWeight': <Array [1, 1, 1, 1, 1, 1, ... 1, 1, 1, 1, 1, 1] type='23185 * ?float32[parameter...'>,\n",
       " 'photon-jet_phi': <Array [-1.54, -2.86, -1.28, ... -0.405, -2.67] type='23185 * ?float32'>,\n",
       " 'photon-jet_mass': <Array [1.39e+03, 1.22e+03, ... 1.25e+03] type='23185 * ?float32'>,\n",
       " 'photon-jet_pt': <Array [25.1, 117, 79, ... 39.4, 10.7, 365] type='23185 * ?float32'>,\n",
       " 'photon-jet_eta': <Array [-3.31, -2.58, -2.09, ... -5.47, 0.87] type='23185 * ?float32'>,\n",
       " 'photon-jet_deltaR': <Array [3.11, 3.26, 3.11, ... 3.11, 3.15, 3.16] type='23185 * ?float32'>,\n",
       " 'gen_Zp_pdgId': <Array [9906663, 9906663, ... 9906663, 9906663] type='22729 * ?int32[parameters=...'>,\n",
       " 'gen_Zp_mass': <Array [1.4e+03, 1.4e+03, ... 1.4e+03, 1.4e+03] type='22729 * ?float32[parameter...'>,\n",
       " 'gen_Zp_phi': <Array [-2, 0.117, 0.848, ... -0.289, -2.55] type='22729 * ?float32[parameters={...'>,\n",
       " 'gen_Zp_eta': <Array [-3.12, -5.22, -2.54, ... -6.09, 0.898] type='22729 * ?float32[parameters...'>,\n",
       " 'gen_Zp_pt': <Array [31.2, 10.5, 56.4, ... 72, 5.78, 512] type='22729 * ?float32[parameters={...'>,\n",
       " 'gen_ZpToHGamma': array([ True,  True,  True, ...,  True,  True,  True]),\n",
       " 'gen_ZpToH(WW)Gamma': array([False, False,  True, ..., False,  True, False]),\n",
       " 'gen_ZpToH(bb)Gamma': array([ True,  True, False, ...,  True, False, False]),\n",
       " 'gen_ZpToH(ZZ)Gamma': array([False, False, False, ..., False, False, False]),\n",
       " 'gen_ZpToH(tautau)Gamma': array([False, False, False, ..., False, False,  True]),\n",
       " 'gen_ZpToH(gammagamma)Gamma': array([False, False, False, ..., False, False, False]),\n",
       " 'gen_HWW_decay_mode': <Array [None, None, 20, 32, ... None, 32, None] type='23185 * ?int64'>}"
      ]
     },
     "execution_count": 11,
     "metadata": {},
     "output_type": "execute_result"
    }
   ],
   "source": [
    "p.variables"
   ]
  },
  {
   "cell_type": "code",
   "execution_count": 8,
   "metadata": {},
   "outputs": [],
   "source": [
    "t = ak.Array(p.variables)"
   ]
  },
  {
   "cell_type": "code",
   "execution_count": 23,
   "metadata": {},
   "outputs": [
    {
     "data": {
      "text/plain": [
       "<Array [[True, True], [True, ... [], [True]] type='1854856 * var * bool[paramete...'>"
      ]
     },
     "execution_count": 23,
     "metadata": {},
     "output_type": "execute_result"
    }
   ],
   "source": [
    "_events.Photon.electronVeto"
   ]
  },
  {
   "cell_type": "code",
   "execution_count": null,
   "metadata": {},
   "outputs": [],
   "source": []
  }
 ],
 "metadata": {
  "kernelspec": {
   "display_name": "Python 3.9.6 64-bit",
   "language": "python",
   "name": "python3"
  },
  "language_info": {
   "codemirror_mode": {
    "name": "ipython",
    "version": 3
   },
   "file_extension": ".py",
   "mimetype": "text/x-python",
   "name": "python",
   "nbconvert_exporter": "python",
   "pygments_lexer": "ipython3",
   "version": "3.9.0"
  },
  "orig_nbformat": 4,
  "vscode": {
   "interpreter": {
    "hash": "bc8653c37afde981a02f518cc5ed66e36d68f5e1c41895fdf66da08341e86c45"
   }
  }
 },
 "nbformat": 4,
 "nbformat_minor": 2
}
