{
 "cells": [
  {
   "cell_type": "code",
   "execution_count": 2,
   "metadata": {},
   "outputs": [],
   "source": [
    "import awkward as ak\n",
    "import numpy as np\n",
    "import os, json, time, uproot, yaml, correctionlib\n",
    "\n",
    "from coffea import processor, lumi_tools\n",
    "from coffea.nanoevents import NanoEventsFactory, NanoAODSchema\n",
    "from coffea.nanoevents.methods.nanoaod import FatJetArray\n",
    "from coffea.analysis_tools import PackedSelection\n",
    "from coffea.lookup_tools import extractor\n",
    "from coffea.jetmet_tools import JECStack, CorrectedJetsFactory, CorrectedMETFactory\n",
    "\n",
    "import sys\n",
    "sys.path.append(\"..\")\n",
    "from src.processors.Processor import Processor\n",
    "from src.processors.TriggerProcessor import TriggerProcessor\n",
    "from src.processors.GenMatch import GenMatch\n",
    "\n",
    "#import importlib\n",
    "#importlib.reload(Processor)"
   ]
  },
  {
   "cell_type": "code",
   "execution_count": 4,
   "metadata": {},
   "outputs": [
    {
     "name": "stderr",
     "output_type": "stream",
     "text": [
      "/afs/cern.ch/user/d/dfu/.local/lib/python3.9/site-packages/coffea/nanoevents/schemas/nanoaod.py:264: RuntimeWarning: Missing cross-reference index for LowPtElectron_electronIdx => Electron\n",
      "  warnings.warn(\n",
      "/afs/cern.ch/user/d/dfu/.local/lib/python3.9/site-packages/coffea/nanoevents/schemas/nanoaod.py:264: RuntimeWarning: Missing cross-reference index for LowPtElectron_photonIdx => Photon\n",
      "  warnings.warn(\n"
     ]
    }
   ],
   "source": [
    "uproot.open.defaults[\"xrootd_handler\"] = uproot.MultithreadedXRootDSource\n",
    "_events = NanoEventsFactory.from_root(\n",
    "    #{'/data/bond/fudawei/public/customizedNanoAOD/output/mc/2017/GJets/GJets_HT-600ToInf/209.root': 'Events'},\n",
    "    {'~/ZpToHG_M-1000.root': 'Events'},\n",
    "    #{'/data/bond/fudawei/public/customizedNanoAOD/output/mc/2017/TTJets/TTJets/2339.root': 'Events'},\n",
    "    #{'/data/bond/fudawei/public/customizedNanoAOD/output/mc/2017/ZpToHG/ZpToHGamma_M1000/14.root': 'Events'},\n",
    "    schemaclass=NanoAODSchema, delayed=False,\n",
    ").events()\n",
    "#p=Processor(outdir='./test/', mode='mc_2018_ZpToHG', param_dir='../src/parameters/')\n",
    "#c=p.process(_events)"
   ]
  },
  {
   "cell_type": "code",
   "execution_count": 16,
   "metadata": {},
   "outputs": [
    {
     "data": {
      "text/html": [
       "<pre>[7,\n",
       " 1,\n",
       " 4,\n",
       " 9,\n",
       " 14,\n",
       " 11,\n",
       " 2,\n",
       " 3,\n",
       " 8,\n",
       " 21,\n",
       " ...,\n",
       " 98987,\n",
       " 98985,\n",
       " 98999,\n",
       " 98997,\n",
       " 98998,\n",
       " 98996,\n",
       " 99000,\n",
       " 98982,\n",
       " 98990]\n",
       "--------------------------------------------------------\n",
       "type: 150000 * uint64[parameters={&quot;__doc__&quot;: &quot;event/l&quot;}]</pre>"
      ],
      "text/plain": [
       "<Array [7, 1, 4, 9, ..., 99000, 98982, 98990] type='150000 * uint64[paramet...'>"
      ]
     },
     "execution_count": 16,
     "metadata": {},
     "output_type": "execute_result"
    }
   ],
   "source": [
    "_events."
   ]
  },
  {
   "cell_type": "code",
   "execution_count": 17,
   "metadata": {},
   "outputs": [],
   "source": [
    "AK8jet = _events.FatJet\n",
    "\n",
    "extract = extractor()\n",
    "uncertainty_dir = os.path.join('../src/parameters', 'uncertainty', '2018')\n",
    "for f in os.listdir(uncertainty_dir):\n",
    "    if 'AK8' not in f or 'UncertaintySources' in f:\n",
    "        continue\n",
    "    extract.add_weight_sets([f'* * {os.path.join(uncertainty_dir, f)}'])\n",
    "extract.finalize()\n",
    "evaluator = extract.make_evaluator()\n",
    "\n",
    "jec_names = dir(evaluator)\n",
    "jec_inputs = {name: evaluator[name] for name in jec_names}\n",
    "jec_stack = JECStack(jec_inputs)\n",
    "name_map = jec_stack.blank_name_map\n",
    "name_map['JetPt'] = 'pt'\n",
    "name_map['JetMass'] = 'mass'\n",
    "name_map['JetEta'] = 'eta'\n",
    "name_map['JetPhi'] = 'phi'\n",
    "name_map['JetA'] = 'area'\n",
    "name_map['ptGenJet'] = 'pt_gen'\n",
    "name_map['ptRaw'] = 'pt_raw'\n",
    "name_map['massRaw'] = 'mass_raw'\n",
    "name_map['Rho'] = 'PU_rho'\n",
    "\n",
    "AK8jet['pt_original'] = AK8jet.pt\n",
    "AK8jet['mass_original'] = AK8jet.mass\n",
    "AK8jet['is_real'] = (~np.isnan(ak.fill_none(AK8jet.matched_gen.pt, np.nan)))*1\n",
    "AK8jet['pt_raw'] = (1 - AK8jet.rawFactor) * AK8jet.pt\n",
    "AK8jet['mass_raw'] = (1 - AK8jet.rawFactor) * AK8jet.mass\n",
    "AK8jet['pt_gen'] = ak.values_astype(ak.fill_none(AK8jet.matched_gen.pt, 0), np.float32)\n",
    "AK8jet['PU_rho'] = ak.broadcast_arrays(_events.fixedGridRhoFastjetAll, AK8jet)[0]\n",
    "\n",
    "corrected_AK8jet = CorrectedJetsFactory(name_map, jec_stack).build(AK8jet).compute()\n",
    "AK8jet['pt_nominal'] = corrected_AK8jet.pt\n",
    "AK8jet['mass_nominal'] = corrected_AK8jet.mass\n",
    "\n",
    "for i in corrected_AK8jet.fields:\n",
    "    if i.startswith(\"JES\") or i.startswith(\"JER\"):\n",
    "        AK8jet[f\"pt_{i[:3]}_up\"] = corrected_AK8jet[i].up.pt\n",
    "        AK8jet[f\"pt_{i[:3]}_down\"] = corrected_AK8jet[i].down.pt\n",
    "        AK8jet[f\"mass_{i[:3]}_up\"] = corrected_AK8jet[i].up.mass\n",
    "        AK8jet[f\"mass_{i[:3]}_down\"] = corrected_AK8jet[i].down.mass"
   ]
  },
  {
   "cell_type": "code",
   "execution_count": 36,
   "metadata": {},
   "outputs": [],
   "source": [
    "a=AK8jet['pt_JES_up']\n",
    "b=AK8jet['pt']\n",
    "c=AK8jet['pt_JES_down']\n",
    "d=AK8jet['pt_raw']"
   ]
  },
  {
   "cell_type": "code",
   "execution_count": 37,
   "metadata": {},
   "outputs": [
    {
     "data": {
      "text/plain": [
       "429.6364577504197"
      ]
     },
     "execution_count": 37,
     "metadata": {},
     "output_type": "execute_result"
    }
   ],
   "source": [
    "ak.mean(a[ak.num(a)>0][:,0])"
   ]
  },
  {
   "cell_type": "code",
   "execution_count": 38,
   "metadata": {},
   "outputs": [
    {
     "data": {
      "text/plain": [
       "446.37627308337994"
      ]
     },
     "execution_count": 38,
     "metadata": {},
     "output_type": "execute_result"
    }
   ],
   "source": [
    "ak.mean(b[ak.num(b)>0][:,0])"
   ]
  },
  {
   "cell_type": "code",
   "execution_count": 39,
   "metadata": {},
   "outputs": [
    {
     "data": {
      "text/plain": [
       "422.26382204812535"
      ]
     },
     "execution_count": 39,
     "metadata": {},
     "output_type": "execute_result"
    }
   ],
   "source": [
    "ak.mean(c[ak.num(c)>0][:,0])"
   ]
  },
  {
   "cell_type": "code",
   "execution_count": 40,
   "metadata": {},
   "outputs": [
    {
     "data": {
      "text/plain": [
       "405.4403749300504"
      ]
     },
     "execution_count": 40,
     "metadata": {},
     "output_type": "execute_result"
    }
   ],
   "source": [
    "ak.mean(d[ak.num(d)>0][:,0])"
   ]
  },
  {
   "cell_type": "code",
   "execution_count": 41,
   "metadata": {},
   "outputs": [
    {
     "data": {
      "text/html": [
       "<pre>[[],\n",
       " [300, 171],\n",
       " [389, 343],\n",
       " [381, 329],\n",
       " [257],\n",
       " [389, 344, 202],\n",
       " [348, 291],\n",
       " [240, 177],\n",
       " [531, 398],\n",
       " [453, 384],\n",
       " ...,\n",
       " [352, 173],\n",
       " [487, 447],\n",
       " [390, 357],\n",
       " [317, 218],\n",
       " [344, 266],\n",
       " [484, 413, 155],\n",
       " [433],\n",
       " [509, 399, 158],\n",
       " [403, 367]]\n",
       "----------------------------\n",
       "type: 150000 * var * float32</pre>"
      ],
      "text/plain": [
       "<Array [[], [300, 171], ..., [...], [403, 367]] type='150000 * var * float32'>"
      ]
     },
     "execution_count": 41,
     "metadata": {},
     "output_type": "execute_result"
    }
   ],
   "source": [
    "corrected_AK8jet.pt"
   ]
  },
  {
   "cell_type": "code",
   "execution_count": 42,
   "metadata": {},
   "outputs": [
    {
     "data": {
      "text/html": [
       "<pre>[[],\n",
       " [300, 171],\n",
       " [389, 343],\n",
       " [381, 329],\n",
       " [257],\n",
       " [389, 344, 202],\n",
       " [348, 291],\n",
       " [240, 177],\n",
       " [531, 398],\n",
       " [453, 384],\n",
       " ...,\n",
       " [352, 173],\n",
       " [487, 447],\n",
       " [390, 357],\n",
       " [317, 218],\n",
       " [344, 266],\n",
       " [484, 413, 155],\n",
       " [433],\n",
       " [509, 399, 158],\n",
       " [403, 367]]\n",
       "----------------------------\n",
       "type: 150000 * var * float32</pre>"
      ],
      "text/plain": [
       "<Array [[], [300, 171], ..., [...], [403, 367]] type='150000 * var * float32'>"
      ]
     },
     "execution_count": 42,
     "metadata": {},
     "output_type": "execute_result"
    }
   ],
   "source": [
    "AK8jet.pt_nominal"
   ]
  },
  {
   "cell_type": "code",
   "execution_count": 43,
   "metadata": {},
   "outputs": [
    {
     "data": {
      "text/html": [
       "<pre>[[],\n",
       " [318, 200],\n",
       " [402, 362],\n",
       " [400, 353],\n",
       " [269],\n",
       " [414, 372, 236],\n",
       " [366, 306],\n",
       " [256, 202],\n",
       " [540, 414],\n",
       " [462, 395],\n",
       " ...,\n",
       " [382, 206],\n",
       " [515, 482],\n",
       " [408, 379],\n",
       " [337, 238],\n",
       " [368, 295],\n",
       " [498, 443, 176],\n",
       " [457],\n",
       " [526, 409, 171],\n",
       " [440, 403]]\n",
       "----------------------------------------------------------\n",
       "type: 150000 * var * float32[parameters={&quot;__doc__&quot;: &quot;pt&quot;}]</pre>"
      ],
      "text/plain": [
       "<Array [[], [318, 200], ..., [...], [440, 403]] type='150000 * var * float3...'>"
      ]
     },
     "execution_count": 43,
     "metadata": {},
     "output_type": "execute_result"
    }
   ],
   "source": [
    "AK8jet.pt"
   ]
  },
  {
   "cell_type": "code",
   "execution_count": null,
   "metadata": {},
   "outputs": [],
   "source": []
  }
 ],
 "metadata": {
  "kernelspec": {
   "display_name": "Python 3",
   "language": "python",
   "name": "python3"
  },
  "language_info": {
   "codemirror_mode": {
    "name": "ipython",
    "version": 3
   },
   "file_extension": ".py",
   "mimetype": "text/x-python",
   "name": "python",
   "nbconvert_exporter": "python",
   "pygments_lexer": "ipython3",
   "version": "3.9.21"
  }
 },
 "nbformat": 4,
 "nbformat_minor": 2
}
