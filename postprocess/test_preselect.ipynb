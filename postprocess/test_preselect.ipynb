{
 "cells": [
  {
   "cell_type": "code",
   "execution_count": 1,
   "metadata": {},
   "outputs": [
    {
     "name": "stderr",
     "output_type": "stream",
     "text": [
      "/home/pku/fudawei/anaconda3/lib/python3.9/site-packages/coffea/nanoevents/methods/candidate.py:11: FutureWarning: In version 2024.7.0 (target date: 2024-06-30 11:59:59-05:00), this will be an error.\n",
      "To raise these warnings as errors (and get stack traces to find out where they're called), run\n",
      "    import warnings\n",
      "    warnings.filterwarnings(\"error\", module=\"coffea.*\")\n",
      "after the first `import coffea` or use `@pytest.mark.filterwarnings(\"error:::coffea.*\")` in pytest.\n",
      "Issue: coffea.nanoevents.methods.vector will be removed and replaced with scikit-hep vector. Nanoevents schemas internal to coffea will be migrated. Otherwise please consider using that package!.\n",
      "  from coffea.nanoevents.methods import vector\n"
     ]
    }
   ],
   "source": [
    "import awkward as ak\n",
    "import numpy as np\n",
    "import os, json, time, uproot, yaml, correctionlib\n",
    "\n",
    "from coffea import processor, lumi_tools\n",
    "from coffea.nanoevents import NanoEventsFactory, NanoAODSchema\n",
    "from coffea.nanoevents.methods.nanoaod import FatJetArray\n",
    "from coffea.analysis_tools import PackedSelection\n",
    "\n",
    "import sys\n",
    "sys.path.append(\"..\")\n",
    "from src.processors.Processor import Processor\n",
    "from src.processors.GenMatch import GenMatch"
   ]
  },
  {
   "attachments": {},
   "cell_type": "markdown",
   "metadata": {},
   "source": [
    "# Batch test"
   ]
  },
  {
   "cell_type": "code",
   "execution_count": 2,
   "metadata": {},
   "outputs": [],
   "source": [
    "uproot.open.defaults[\"xrootd_handler\"] = uproot.MultithreadedXRootDSource\n",
    "_events = NanoEventsFactory.from_root(\n",
    "    {'/data/bond/fudawei/public/customizedNanoAOD/output/mc/2017/TTJets/TTJets/1242.root': 'Events'},\n",
    "    schemaclass=NanoAODSchema, delayed=False,\n",
    ").events()\n",
    "#p=Processor(outdir='./test/', mode='mc_2017_TTJets', param_dir='../src/parameters/')\n",
    "#c=p.process(_events)\n"
   ]
  },
  {
   "cell_type": "code",
   "execution_count": 3,
   "metadata": {},
   "outputs": [
    {
     "data": {
      "text/html": [
       "<pre>[[0.637, 0.735, 0.823, 0.436, 1, 0.557, 0.31, 0.354, 0.393],\n",
       " [0.0632, 0.0912, 0.115, 0.513, 1, 0.486, 0.746, 0.71, 0.676],\n",
       " [0.235, 0.231, 0.224, 0.493, 1, 0.503, 0.619, 0.632, 0.64],\n",
       " [0.818, 0.765, 0.714, 0.535, 1, 0.467, 0.365, 0.341, 0.318],\n",
       " [0.754, 0.742, 0.73, 0.508, 1, 0.492, 0.357, 0.351, 0.344],\n",
       " [0.858, 0.797, 0.742, 0.539, 1, 0.466, 0.355, 0.33, 0.307],\n",
       " [0.49, 0.492, 0.492, 0.496, 1, 0.501, 0.481, 0.485, 0.487],\n",
       " [0.526, 0.615, 0.696, 0.436, 1, 0.558, 0.367, 0.415, 0.457],\n",
       " [0.625, 0.612, 0.581, 0.511, 1, 0.474, 0.406, 0.397, 0.376],\n",
       " [0.937, 0.841, 0.757, 0.557, 1, 0.45, 0.349, 0.313, 0.282],\n",
       " ...,\n",
       " [0.805, 0.742, 0.685, 0.543, 1, 0.462, 0.38, 0.35, 0.323],\n",
       " [0.832, 0.744, 0.669, 0.559, 1, 0.45, 0.39, 0.349, 0.314],\n",
       " [0.975, 0.869, 0.777, 0.561, 1, 0.447, 0.342, 0.305, 0.272],\n",
       " [0.594, 0.587, 0.577, 0.506, 1, 0.491, 0.426, 0.421, 0.413],\n",
       " [1.21, 0.674, 0.251, 0.83, 1, 0.237, 0.589, 0.375, 0.204],\n",
       " [0.958, 0.806, 0.688, 0.594, 1, 0.426, 0.385, 0.324, 0.276],\n",
       " [0.743, 0.708, 0.674, 0.525, 1, 0.476, 0.384, 0.366, 0.348],\n",
       " [0.94, 0.826, 0.731, 0.569, 1, 0.442, 0.361, 0.317, 0.281],\n",
       " [0.583, 0.653, 0.716, 0.448, 1, 0.546, 0.354, 0.393, 0.428]]\n",
       "-----------------------------------------------------------------------------------------------------------------------------------------------------------------------------------------------------------------------------------------------------------------------------------------------------------------------------------------------------------------------------------------------------------------------------------------------------------------------------------------\n",
       "type: 84150 * [var * float32[parameters={&quot;__doc__&quot;: &quot;LHE scale variation weights (w_var / w_nominal); [0] is MUF=\\&quot;0.5\\&quot; MUR=\\&quot;0.5\\&quot;; [1] is MUF=\\&quot;1.0\\&quot; MUR=\\&quot;0.5\\&quot;; [2] is MUF=\\&quot;2.0\\&quot; MUR=\\&quot;0.5\\&quot;; [3] is MUF=\\&quot;0.5\\&quot; MUR=\\&quot;1.0\\&quot;; [4] is MUF=\\&quot;1.0\\&quot; MUR=\\&quot;1.0\\&quot;; [5] is MUF=\\&quot;2.0\\&quot; MUR=\\&quot;1.0\\&quot;; [6] is MUF=\\&quot;0.5\\&quot; MUR=\\&quot;2.0\\&quot;; [7] is MUF=\\&quot;1.0\\&quot; MUR=\\&quot;2.0\\&quot;; [8] is MUF=\\&quot;2.0\\&quot; MUR=\\&quot;2.0\\&quot;&quot;}], parameters={&quot;__array__&quot;: &quot;NanoCollection&quot;, &quot;collection_name&quot;: &quot;LHEScaleWeight&quot;}]</pre>"
      ],
      "text/plain": [
       "<Array [[0.637, 0.735, ..., 0.354, 0.393], ...] type='84150 * [var * float3...'>"
      ]
     },
     "execution_count": 3,
     "metadata": {},
     "output_type": "execute_result"
    }
   ],
   "source": [
    "_events.LHEScaleWeight"
   ]
  },
  {
   "cell_type": "code",
   "execution_count": 7,
   "metadata": {},
   "outputs": [
    {
     "name": "stdout",
     "output_type": "stream",
     "text": [
      "nAK4jet 1\n",
      "AK8jet_eta 1\n",
      "AK8jet_mass 1\n",
      "AK8jet_pt 1\n",
      "AK8jet_msoftdrop 1\n",
      "AK8jet_phi 1\n",
      "event_MET_pt 1\n",
      "event_MET_phi 1\n",
      "event_LHEScaleWeight 1\n",
      "event_genWeight 1\n",
      "event_weight 1\n",
      "R_eta 1\n",
      "R_mass 1\n",
      "R_phi 1\n",
      "R_pt 1\n",
      "gKK_eta 1\n",
      "gKK_mass 1\n",
      "gKK_phi 1\n",
      "gKK_pt 1\n",
      "AK8jet_ParticleNetMDraw_probQCDb 1\n",
      "AK8jet_ParticleNetMDraw_probQCDbb 1\n",
      "AK8jet_ParticleNetMDraw_probQCDc 1\n",
      "AK8jet_ParticleNetMDraw_probQCDcc 1\n",
      "AK8jet_ParticleNetMDraw_probQCDothers 1\n",
      "AK8jet_ParticleNetMDraw_probXbb 1\n",
      "AK8jet_ParticleNetMDraw_probXcc 1\n",
      "AK8jet_ParticleNetMDraw_probXqq 1\n",
      "AK8jet_ParticleNetraw_probHbb 1\n",
      "AK8jet_ParticleNetraw_probHcc 1\n",
      "AK8jet_ParticleNetraw_probHqqqq 1\n",
      "AK8jet_ParticleNetraw_probQCDb 1\n",
      "AK8jet_ParticleNetraw_probQCDbb 1\n",
      "AK8jet_ParticleNetraw_probQCDc 1\n",
      "AK8jet_ParticleNetraw_probQCDcc 1\n",
      "AK8jet_ParticleNetraw_probQCDothers 1\n",
      "AK8jet_ParticleNetraw_probTbc 1\n",
      "AK8jet_ParticleNetraw_probTbcq 1\n",
      "AK8jet_ParticleNetraw_probTbel 1\n",
      "AK8jet_ParticleNetraw_probTbmu 1\n",
      "AK8jet_ParticleNetraw_probTbq 1\n",
      "AK8jet_ParticleNetraw_probTbqq 1\n",
      "AK8jet_ParticleNetraw_probTbta 1\n",
      "AK8jet_ParticleNetraw_probWcq 1\n",
      "AK8jet_ParticleNetraw_probWqq 1\n",
      "AK8jet_ParticleNetraw_probZbb 1\n",
      "AK8jet_ParticleNetraw_probZcc 1\n",
      "AK8jet_ParticleNetraw_probZqq 1\n",
      "AK8jet_particleNetMD_QCD 1\n",
      "AK8jet_particleNetMD_Xbb 1\n",
      "AK8jet_particleNetMD_Xcc 1\n",
      "AK8jet_particleNetMD_Xqq 1\n",
      "AK8jet_particleNet_H4qvsQCD 1\n",
      "AK8jet_particleNet_HbbvsQCD 1\n",
      "AK8jet_particleNet_HccvsQCD 1\n",
      "AK8jet_particleNet_QCD 1\n",
      "AK8jet_particleNet_TvsQCD 1\n",
      "AK8jet_particleNet_WvsQCD 1\n",
      "AK8jet_particleNet_ZvsQCD 1\n",
      "AK8jet_Wqq_score 84150\n",
      "event_No. 1\n",
      "m_85 1\n",
      "m_90 1\n",
      "nMuon 1\n",
      "nElectron 1\n"
     ]
    }
   ],
   "source": [
    "for f in p.variables:\n",
    "    print(f, len(p.variables[f]))"
   ]
  },
  {
   "cell_type": "code",
   "execution_count": 20,
   "metadata": {},
   "outputs": [
    {
     "ename": "TypeError",
     "evalue": "'NoneType' object is not subscriptable",
     "output_type": "error",
     "traceback": [
      "\u001b[0;31m---------------------------------------------------------------------------\u001b[0m",
      "\u001b[0;31mTypeError\u001b[0m                                 Traceback (most recent call last)",
      "Cell \u001b[0;32mIn[20], line 1\u001b[0m\n\u001b[0;32m----> 1\u001b[0m \u001b[43mp\u001b[49m\u001b[38;5;241;43m.\u001b[39;49m\u001b[43mevent\u001b[49m\u001b[43m[\u001b[49m\u001b[38;5;241;43m0\u001b[39;49m\u001b[43m]\u001b[49m\u001b[38;5;241m.\u001b[39mluminosityBlock, p\u001b[38;5;241m.\u001b[39mevent[\u001b[38;5;241m0\u001b[39m]\u001b[38;5;241m.\u001b[39mrun, p\u001b[38;5;241m.\u001b[39mevent[\u001b[38;5;241m0\u001b[39m]\u001b[38;5;241m.\u001b[39mevent\n",
      "\u001b[0;31mTypeError\u001b[0m: 'NoneType' object is not subscriptable"
     ]
    }
   ],
   "source": [
    "p.event[0].luminosityBlock, p.event[0].run, p.event[0].event"
   ]
  },
  {
   "cell_type": "code",
   "execution_count": null,
   "metadata": {},
   "outputs": [
    {
     "data": {
      "text/html": [
       "<pre>[[1.27, 1.09, 0.941, 1.17, 1, 0.867, 1.08, 0.927, 0.804],\n",
       " [1.2, 1.09, 0.997, 1.1, 1, 0.914, 1.02, 0.924, 0.845],\n",
       " [1.07, 1, 0.934, 1.07, 1, 0.934, 1.07, 1, 0.934],\n",
       " [1.3, 1.19, 1.09, 1.09, 1, 0.92, 0.934, 0.855, 0.786],\n",
       " [1.19, 1.09, 0.993, 1.1, 1, 0.914, 1.02, 0.927, 0.848],\n",
       " [1.22, 1.09, 0.979, 1.12, 1, 0.899, 1.04, 0.925, 0.832],\n",
       " [1.22, 1.09, 0.977, 1.12, 1, 0.897, 1.04, 0.925, 0.829],\n",
       " [1.24, 1.08, 0.949, 1.15, 1, 0.88, 1.07, 0.932, 0.821],\n",
       " [1.2, 1.09, 0.991, 1.1, 1, 0.912, 1.02, 0.926, 0.845],\n",
       " [1.3, 1.17, 1.07, 1.11, 1, 0.908, 0.955, 0.862, 0.783],\n",
       " ...,\n",
       " [1.21, 1.1, 1, 1.1, 1, 0.915, 1.01, 0.919, 0.841],\n",
       " [1.22, 1.09, 0.988, 1.11, 1, 0.905, 1.03, 0.923, 0.835],\n",
       " [1.17, 1.09, 1.02, 1.07, 1, 0.938, 0.987, 0.923, 0.866],\n",
       " [1.3, 1.17, 1.07, 1.11, 1, 0.908, 0.956, 0.863, 0.783],\n",
       " [1.28, 1.19, 1.11, 1.08, 1, 0.932, 0.918, 0.853, 0.796],\n",
       " [1.18, 1.09, 1.02, 1.08, 1, 0.929, 0.997, 0.922, 0.856],\n",
       " [1.17, 1.09, 1.01, 1.08, 1, 0.93, 0.993, 0.923, 0.858],\n",
       " [1.21, 1.09, 0.983, 1.11, 1, 0.904, 1.03, 0.926, 0.837],\n",
       " [1.3, 1.19, 1.09, 1.09, 1, 0.918, 0.932, 0.853, 0.784]]\n",
       "-----------------------------------------------------------------------------------------------------------------------------------------------------------------------------------------------------------------------------------------------------------------------------------------------------------------------------------------------------------------------------------------------------------------------------------------------------------------------------------------------\n",
       "type: 543 * option[[var * float32[parameters={&quot;__doc__&quot;: &quot;LHE scale variation weights (w_var / w_nominal); [0] is MUF=\\&quot;0.5\\&quot; MUR=\\&quot;0.5\\&quot;; [1] is MUF=\\&quot;1.0\\&quot; MUR=\\&quot;0.5\\&quot;; [2] is MUF=\\&quot;2.0\\&quot; MUR=\\&quot;0.5\\&quot;; [3] is MUF=\\&quot;0.5\\&quot; MUR=\\&quot;1.0\\&quot;; [4] is MUF=\\&quot;1.0\\&quot; MUR=\\&quot;1.0\\&quot;; [5] is MUF=\\&quot;2.0\\&quot; MUR=\\&quot;1.0\\&quot;; [6] is MUF=\\&quot;0.5\\&quot; MUR=\\&quot;2.0\\&quot;; [7] is MUF=\\&quot;1.0\\&quot; MUR=\\&quot;2.0\\&quot;; [8] is MUF=\\&quot;2.0\\&quot; MUR=\\&quot;2.0\\&quot;&quot;}], parameters={&quot;__array__&quot;: &quot;NanoCollection&quot;, &quot;collection_name&quot;: &quot;LHEScaleWeight&quot;}]]</pre>"
      ],
      "text/plain": [
       "<Array [[1.27, 1.09, ..., 0.927, 0.804], ...] type='543 * option[[var * flo...'>"
      ]
     },
     "execution_count": 4,
     "metadata": {},
     "output_type": "execute_result"
    }
   ],
   "source": [
    "p.variables['event_LHEScaleWeight']"
   ]
  },
  {
   "cell_type": "code",
   "execution_count": null,
   "metadata": {},
   "outputs": [
    {
     "data": {
      "text/plain": [
       "<Array [1.05, 1, 0.95, 1.05, ... 1.05, 1, 0.95] type='9 * float32[parameters={\"_...'>"
      ]
     },
     "execution_count": 7,
     "metadata": {},
     "output_type": "execute_result"
    }
   ],
   "source": [
    "_events.LHEScaleWeight[0]"
   ]
  },
  {
   "cell_type": "code",
   "execution_count": null,
   "metadata": {},
   "outputs": [
    {
     "data": {
      "text/plain": [
       "['ParticleNetMDraw_probQCDb',\n",
       " 'ParticleNetMDraw_probQCDbb',\n",
       " 'ParticleNetMDraw_probQCDc',\n",
       " 'ParticleNetMDraw_probQCDcc',\n",
       " 'ParticleNetMDraw_probQCDothers',\n",
       " 'ParticleNetMDraw_probXbb',\n",
       " 'ParticleNetMDraw_probXcc',\n",
       " 'ParticleNetMDraw_probXqq',\n",
       " 'ParticleNetraw_probHbb',\n",
       " 'ParticleNetraw_probHcc',\n",
       " 'ParticleNetraw_probHqqqq',\n",
       " 'ParticleNetraw_probQCDb',\n",
       " 'ParticleNetraw_probQCDbb',\n",
       " 'ParticleNetraw_probQCDc',\n",
       " 'ParticleNetraw_probQCDcc',\n",
       " 'ParticleNetraw_probQCDothers',\n",
       " 'ParticleNetraw_probTbc',\n",
       " 'ParticleNetraw_probTbcq',\n",
       " 'ParticleNetraw_probTbel',\n",
       " 'ParticleNetraw_probTbmu',\n",
       " 'ParticleNetraw_probTbq',\n",
       " 'ParticleNetraw_probTbqq',\n",
       " 'ParticleNetraw_probTbta',\n",
       " 'ParticleNetraw_probWcq',\n",
       " 'ParticleNetraw_probWqq',\n",
       " 'ParticleNetraw_probZbb',\n",
       " 'ParticleNetraw_probZcc',\n",
       " 'ParticleNetraw_probZqq',\n",
       " 'area',\n",
       " 'btagCMVA',\n",
       " 'btagCSVV2',\n",
       " 'btagDDBvL',\n",
       " 'btagDDBvLV2',\n",
       " 'btagDDBvL_noMD',\n",
       " 'btagDDCvB',\n",
       " 'btagDDCvBV2',\n",
       " 'btagDDCvB_noMD',\n",
       " 'btagDDCvL',\n",
       " 'btagDDCvLV2',\n",
       " 'btagDDCvL_noMD',\n",
       " 'btagDeepB',\n",
       " 'btagHbb',\n",
       " 'deepHWWMDV1_probHww3q',\n",
       " 'deepHWWMDV1_probHww4q',\n",
       " 'deepHWWMDV1_probHww4q3qvsQCD',\n",
       " 'deepHWWMDV1_probHww4qvsQCD',\n",
       " 'deepHWWMDV1_probHwwevqq',\n",
       " 'deepHWWMDV1_probHwwhadtauvqq',\n",
       " 'deepHWWMDV1_probHwwleptauevqq',\n",
       " 'deepHWWMDV1_probHwwleptaumvqq',\n",
       " 'deepHWWMDV1_probHwwmvqq',\n",
       " 'deepHWWMDV1_probQCDb',\n",
       " 'deepHWWMDV1_probQCDbb',\n",
       " 'deepHWWMDV1_probQCDc',\n",
       " 'deepHWWMDV1_probQCDcc',\n",
       " 'deepHWWMDV1_probQCDothers',\n",
       " 'deepTagMD_H4qvsQCD',\n",
       " 'deepTagMD_HbbvsQCD',\n",
       " 'deepTagMD_TvsQCD',\n",
       " 'deepTagMD_WvsQCD',\n",
       " 'deepTagMD_ZHbbvsQCD',\n",
       " 'deepTagMD_ZHccvsQCD',\n",
       " 'deepTagMD_ZbbvsQCD',\n",
       " 'deepTagMD_ZvsQCD',\n",
       " 'deepTagMD_bbvsLight',\n",
       " 'deepTagMD_ccvsLight',\n",
       " 'deepTagMD_probHbb',\n",
       " 'deepTagMD_probHcc',\n",
       " 'deepTagMD_probHqqqq',\n",
       " 'deepTagMD_probQCDb',\n",
       " 'deepTagMD_probQCDbb',\n",
       " 'deepTagMD_probQCDc',\n",
       " 'deepTagMD_probQCDcc',\n",
       " 'deepTagMD_probQCDothers',\n",
       " 'deepTagMD_probTbc',\n",
       " 'deepTagMD_probTbcq',\n",
       " 'deepTagMD_probTbq',\n",
       " 'deepTagMD_probTbqq',\n",
       " 'deepTagMD_probWcq',\n",
       " 'deepTagMD_probWqq',\n",
       " 'deepTagMD_probZbb',\n",
       " 'deepTagMD_probZcc',\n",
       " 'deepTagMD_probZqq',\n",
       " 'deepTag_H',\n",
       " 'deepTag_QCD',\n",
       " 'deepTag_QCDothers',\n",
       " 'deepTag_TvsQCD',\n",
       " 'deepTag_WvsQCD',\n",
       " 'deepTag_ZvsQCD',\n",
       " 'deepTag_probHbb',\n",
       " 'deepTag_probHcc',\n",
       " 'deepTag_probHqqqq',\n",
       " 'deepTag_probQCDb',\n",
       " 'deepTag_probQCDbb',\n",
       " 'deepTag_probQCDc',\n",
       " 'deepTag_probQCDcc',\n",
       " 'deepTag_probQCDothers',\n",
       " 'deepTag_probTbc',\n",
       " 'deepTag_probTbcq',\n",
       " 'deepTag_probTbq',\n",
       " 'deepTag_probTbqq',\n",
       " 'deepTag_probWcq',\n",
       " 'deepTag_probWqq',\n",
       " 'deepTag_probZbb',\n",
       " 'deepTag_probZcc',\n",
       " 'deepTag_probZqq',\n",
       " 'eta',\n",
       " 'inclParTMDV1_HWW4q3qvsQCD',\n",
       " 'inclParTMDV1_HWW4qvsQCD',\n",
       " 'inclParTMDV1_HWWlvqqvsQCDTop',\n",
       " 'inclParTMDV1_HWWlvqqvsTopblv',\n",
       " 'inclParTMDV1_HbbvsQCD',\n",
       " 'inclParTMDV1_HccvsQCD',\n",
       " 'inclParTMDV1_hidNeuron000',\n",
       " 'inclParTMDV1_hidNeuron001',\n",
       " 'inclParTMDV1_hidNeuron002',\n",
       " 'inclParTMDV1_hidNeuron003',\n",
       " 'inclParTMDV1_hidNeuron004',\n",
       " 'inclParTMDV1_hidNeuron005',\n",
       " 'inclParTMDV1_hidNeuron006',\n",
       " 'inclParTMDV1_hidNeuron007',\n",
       " 'inclParTMDV1_hidNeuron008',\n",
       " 'inclParTMDV1_hidNeuron009',\n",
       " 'inclParTMDV1_hidNeuron010',\n",
       " 'inclParTMDV1_hidNeuron011',\n",
       " 'inclParTMDV1_hidNeuron012',\n",
       " 'inclParTMDV1_hidNeuron013',\n",
       " 'inclParTMDV1_hidNeuron014',\n",
       " 'inclParTMDV1_hidNeuron015',\n",
       " 'inclParTMDV1_hidNeuron016',\n",
       " 'inclParTMDV1_hidNeuron017',\n",
       " 'inclParTMDV1_hidNeuron018',\n",
       " 'inclParTMDV1_hidNeuron019',\n",
       " 'inclParTMDV1_hidNeuron020',\n",
       " 'inclParTMDV1_hidNeuron021',\n",
       " 'inclParTMDV1_hidNeuron022',\n",
       " 'inclParTMDV1_hidNeuron023',\n",
       " 'inclParTMDV1_hidNeuron024',\n",
       " 'inclParTMDV1_hidNeuron025',\n",
       " 'inclParTMDV1_hidNeuron026',\n",
       " 'inclParTMDV1_hidNeuron027',\n",
       " 'inclParTMDV1_hidNeuron028',\n",
       " 'inclParTMDV1_hidNeuron029',\n",
       " 'inclParTMDV1_hidNeuron030',\n",
       " 'inclParTMDV1_hidNeuron031',\n",
       " 'inclParTMDV1_hidNeuron032',\n",
       " 'inclParTMDV1_hidNeuron033',\n",
       " 'inclParTMDV1_hidNeuron034',\n",
       " 'inclParTMDV1_hidNeuron035',\n",
       " 'inclParTMDV1_hidNeuron036',\n",
       " 'inclParTMDV1_hidNeuron037',\n",
       " 'inclParTMDV1_hidNeuron038',\n",
       " 'inclParTMDV1_hidNeuron039',\n",
       " 'inclParTMDV1_hidNeuron040',\n",
       " 'inclParTMDV1_hidNeuron041',\n",
       " 'inclParTMDV1_hidNeuron042',\n",
       " 'inclParTMDV1_hidNeuron043',\n",
       " 'inclParTMDV1_hidNeuron044',\n",
       " 'inclParTMDV1_hidNeuron045',\n",
       " 'inclParTMDV1_hidNeuron046',\n",
       " 'inclParTMDV1_hidNeuron047',\n",
       " 'inclParTMDV1_hidNeuron048',\n",
       " 'inclParTMDV1_hidNeuron049',\n",
       " 'inclParTMDV1_hidNeuron050',\n",
       " 'inclParTMDV1_hidNeuron051',\n",
       " 'inclParTMDV1_hidNeuron052',\n",
       " 'inclParTMDV1_hidNeuron053',\n",
       " 'inclParTMDV1_hidNeuron054',\n",
       " 'inclParTMDV1_hidNeuron055',\n",
       " 'inclParTMDV1_hidNeuron056',\n",
       " 'inclParTMDV1_hidNeuron057',\n",
       " 'inclParTMDV1_hidNeuron058',\n",
       " 'inclParTMDV1_hidNeuron059',\n",
       " 'inclParTMDV1_hidNeuron060',\n",
       " 'inclParTMDV1_hidNeuron061',\n",
       " 'inclParTMDV1_hidNeuron062',\n",
       " 'inclParTMDV1_hidNeuron063',\n",
       " 'inclParTMDV1_hidNeuron064',\n",
       " 'inclParTMDV1_hidNeuron065',\n",
       " 'inclParTMDV1_hidNeuron066',\n",
       " 'inclParTMDV1_hidNeuron067',\n",
       " 'inclParTMDV1_hidNeuron068',\n",
       " 'inclParTMDV1_hidNeuron069',\n",
       " 'inclParTMDV1_hidNeuron070',\n",
       " 'inclParTMDV1_hidNeuron071',\n",
       " 'inclParTMDV1_hidNeuron072',\n",
       " 'inclParTMDV1_hidNeuron073',\n",
       " 'inclParTMDV1_hidNeuron074',\n",
       " 'inclParTMDV1_hidNeuron075',\n",
       " 'inclParTMDV1_hidNeuron076',\n",
       " 'inclParTMDV1_hidNeuron077',\n",
       " 'inclParTMDV1_hidNeuron078',\n",
       " 'inclParTMDV1_hidNeuron079',\n",
       " 'inclParTMDV1_hidNeuron080',\n",
       " 'inclParTMDV1_hidNeuron081',\n",
       " 'inclParTMDV1_hidNeuron082',\n",
       " 'inclParTMDV1_hidNeuron083',\n",
       " 'inclParTMDV1_hidNeuron084',\n",
       " 'inclParTMDV1_hidNeuron085',\n",
       " 'inclParTMDV1_hidNeuron086',\n",
       " 'inclParTMDV1_hidNeuron087',\n",
       " 'inclParTMDV1_hidNeuron088',\n",
       " 'inclParTMDV1_hidNeuron089',\n",
       " 'inclParTMDV1_hidNeuron090',\n",
       " 'inclParTMDV1_hidNeuron091',\n",
       " 'inclParTMDV1_hidNeuron092',\n",
       " 'inclParTMDV1_hidNeuron093',\n",
       " 'inclParTMDV1_hidNeuron094',\n",
       " 'inclParTMDV1_hidNeuron095',\n",
       " 'inclParTMDV1_hidNeuron096',\n",
       " 'inclParTMDV1_hidNeuron097',\n",
       " 'inclParTMDV1_hidNeuron098',\n",
       " 'inclParTMDV1_hidNeuron099',\n",
       " 'inclParTMDV1_hidNeuron100',\n",
       " 'inclParTMDV1_hidNeuron101',\n",
       " 'inclParTMDV1_hidNeuron102',\n",
       " 'inclParTMDV1_hidNeuron103',\n",
       " 'inclParTMDV1_hidNeuron104',\n",
       " 'inclParTMDV1_hidNeuron105',\n",
       " 'inclParTMDV1_hidNeuron106',\n",
       " 'inclParTMDV1_hidNeuron107',\n",
       " 'inclParTMDV1_hidNeuron108',\n",
       " 'inclParTMDV1_hidNeuron109',\n",
       " 'inclParTMDV1_hidNeuron110',\n",
       " 'inclParTMDV1_hidNeuron111',\n",
       " 'inclParTMDV1_hidNeuron112',\n",
       " 'inclParTMDV1_hidNeuron113',\n",
       " 'inclParTMDV1_hidNeuron114',\n",
       " 'inclParTMDV1_hidNeuron115',\n",
       " 'inclParTMDV1_hidNeuron116',\n",
       " 'inclParTMDV1_hidNeuron117',\n",
       " 'inclParTMDV1_hidNeuron118',\n",
       " 'inclParTMDV1_hidNeuron119',\n",
       " 'inclParTMDV1_hidNeuron120',\n",
       " 'inclParTMDV1_hidNeuron121',\n",
       " 'inclParTMDV1_hidNeuron122',\n",
       " 'inclParTMDV1_hidNeuron123',\n",
       " 'inclParTMDV1_hidNeuron124',\n",
       " 'inclParTMDV1_hidNeuron125',\n",
       " 'inclParTMDV1_hidNeuron126',\n",
       " 'inclParTMDV1_hidNeuron127',\n",
       " 'inclParTMDV1_mass',\n",
       " 'inclParTMDV1_probHWqqWev0c',\n",
       " 'inclParTMDV1_probHWqqWev1c',\n",
       " 'inclParTMDV1_probHWqqWmv0c',\n",
       " 'inclParTMDV1_probHWqqWmv1c',\n",
       " 'inclParTMDV1_probHWqqWq0c',\n",
       " 'inclParTMDV1_probHWqqWq1c',\n",
       " 'inclParTMDV1_probHWqqWq2c',\n",
       " 'inclParTMDV1_probHWqqWqq0c',\n",
       " 'inclParTMDV1_probHWqqWqq1c',\n",
       " 'inclParTMDV1_probHWqqWqq2c',\n",
       " 'inclParTMDV1_probHWqqWtauev0c',\n",
       " 'inclParTMDV1_probHWqqWtauev1c',\n",
       " 'inclParTMDV1_probHWqqWtauhv0c',\n",
       " 'inclParTMDV1_probHWqqWtauhv1c',\n",
       " 'inclParTMDV1_probHWqqWtaumv0c',\n",
       " 'inclParTMDV1_probHWqqWtaumv1c',\n",
       " 'inclParTMDV1_probHbb',\n",
       " 'inclParTMDV1_probHcc',\n",
       " 'inclParTMDV1_probHqq',\n",
       " 'inclParTMDV1_probHss',\n",
       " 'inclParTMDV1_probHtauhtaue',\n",
       " 'inclParTMDV1_probHtauhtauh',\n",
       " 'inclParTMDV1_probHtauhtaum',\n",
       " 'inclParTMDV1_probQCDb',\n",
       " 'inclParTMDV1_probQCDbb',\n",
       " 'inclParTMDV1_probQCDc',\n",
       " 'inclParTMDV1_probQCDcc',\n",
       " 'inclParTMDV1_probQCDothers',\n",
       " 'inclParTMDV1_probTopbWev',\n",
       " 'inclParTMDV1_probTopbWmv',\n",
       " 'inclParTMDV1_probTopbWq0c',\n",
       " 'inclParTMDV1_probTopbWq1c',\n",
       " 'inclParTMDV1_probTopbWqq0c',\n",
       " 'inclParTMDV1_probTopbWqq1c',\n",
       " 'inclParTMDV1_probTopbWtauev',\n",
       " 'inclParTMDV1_probTopbWtauhv',\n",
       " 'inclParTMDV1_probTopbWtaumv',\n",
       " 'mass',\n",
       " 'msoftdrop',\n",
       " 'n2b1',\n",
       " 'n3b1',\n",
       " 'particleNetMD_QCD',\n",
       " 'particleNetMD_Xbb',\n",
       " 'particleNetMD_Xcc',\n",
       " 'particleNetMD_Xqq',\n",
       " 'particleNet_H4qvsQCD',\n",
       " 'particleNet_HbbvsQCD',\n",
       " 'particleNet_HccvsQCD',\n",
       " 'particleNet_QCD',\n",
       " 'particleNet_TvsQCD',\n",
       " 'particleNet_WvsQCD',\n",
       " 'particleNet_ZvsQCD',\n",
       " 'phi',\n",
       " 'pt',\n",
       " 'rawFactor',\n",
       " 'tau1',\n",
       " 'tau2',\n",
       " 'tau3',\n",
       " 'tau4',\n",
       " 'lsf3',\n",
       " 'jetId',\n",
       " 'subJetIdx1',\n",
       " 'subJetIdx2',\n",
       " 'electronIdx3SJ',\n",
       " 'muonIdx3SJ',\n",
       " 'genJetAK8Idx',\n",
       " 'hadronFlavour',\n",
       " 'nBHadrons',\n",
       " 'nCHadrons',\n",
       " 'genJetAK8IdxG',\n",
       " 'subJetIdx1G',\n",
       " 'subJetIdx2G',\n",
       " 'subJetIdxG']"
      ]
     },
     "execution_count": 7,
     "metadata": {},
     "output_type": "execute_result"
    }
   ],
   "source": [
    "_events.FatJet.fields"
   ]
  },
  {
   "cell_type": "code",
   "execution_count": null,
   "metadata": {},
   "outputs": [
    {
     "data": {
      "text/plain": [
       "{-11, 11, 22}"
      ]
     },
     "execution_count": 18,
     "metadata": {},
     "output_type": "execute_result"
    }
   ],
   "source": [
    "set(ak.flatten(_events.GenPart[_events.Photon.genPartIdx[_events.Photon.genPartIdx!=-1]].pdgId))"
   ]
  },
  {
   "cell_type": "code",
   "execution_count": null,
   "metadata": {},
   "outputs": [],
   "source": [
    "correction = correctionlib.CorrectionSet.from_file(p.pile_up['json'][p.year])[p.pile_up['key'][p.year]]"
   ]
  },
  {
   "cell_type": "code",
   "execution_count": null,
   "metadata": {},
   "outputs": [],
   "source": [
    "_events = NanoEventsFactory.from_root(\n",
    "    #file='root://cms-xrd-global.cern.ch//store/mc/RunIISummer20UL18NanoAODv9/GJets_HT-400To600_TuneCP5_13TeV-madgraphMLM-pythia8/NANOAODSIM/106X_upgrade2018_realistic_v16_L1v1-v1/2550000/4DEF4AA9-9736-594E-AB77-3F33D317DDBF.root',\n",
    "    file = 'https://stash.osgconnect.net/+fudawei/samples/mc/2018/ZpToHG/ZpToHGamma_M2000/0/mc2018.root',\n",
    "    #file='https://stash.osgconnect.net/+yuzhe/0lepton/custom_nano/V2/2018/HG/QCD_HT300to500_TuneCP5_13TeV-madgraphMLM-pythia8_RunIISummer20UL18MiniAODv2-106X_upgrade2018_realistic_v16_L1v1-v2/out_101.root',\n",
    "    treepath='Events', schemaclass=NanoAODSchema\n",
    ").events()"
   ]
  },
  {
   "cell_type": "code",
   "execution_count": null,
   "metadata": {},
   "outputs": [
    {
     "data": {
      "text/plain": [
       "<FatJetArray [[FatJet], [FatJet, ... [FatJet]] type='1000 * option[var * fatJet]'>"
      ]
     },
     "execution_count": 46,
     "metadata": {},
     "output_type": "execute_result"
    }
   ],
   "source": [
    "_events.FatJet[ak.argmax(_events.FatJet.inclParTMDV1_probHWqqWev1c, axis=1)]"
   ]
  },
  {
   "cell_type": "code",
   "execution_count": null,
   "metadata": {},
   "outputs": [
    {
     "data": {
      "text/plain": [
       "\"\\n 'inclParTMDV1_probHWqqWev0c',\\n 'inclParTMDV1_probHWqqWev1c',\\n 'inclParTMDV1_probHWqqWmv0c',\\n 'inclParTMDV1_probHWqqWmv1c',\\n 'inclParTMDV1_probHWqqWq0c',\\n 'inclParTMDV1_probHWqqWq1c',\\n 'inclParTMDV1_probHWqqWq2c',\\n 'inclParTMDV1_probHWqqWqq0c',\\n 'inclParTMDV1_probHWqqWqq1c',\\n 'inclParTMDV1_probHWqqWqq2c',\\n 'inclParTMDV1_probHWqqWtauev0c',\\n 'inclParTMDV1_probHWqqWtauev1c',\\n 'inclParTMDV1_probHWqqWtauhv0c',\\n 'inclParTMDV1_probHWqqWtauhv1c',\\n 'inclParTMDV1_probHWqqWtaumv0c',\\n 'inclParTMDV1_probHWqqWtaumv1c',\\n 'inclParTMDV1_probHbb',\\n 'inclParTMDV1_probHcc',\\n 'inclParTMDV1_probHqq',\\n 'inclParTMDV1_probHss',\\n 'inclParTMDV1_probHtauhtaue',\\n 'inclParTMDV1_probHtauhtauh',\\n 'inclParTMDV1_probHtauhtaum',\\n\""
      ]
     },
     "execution_count": 22,
     "metadata": {},
     "output_type": "execute_result"
    }
   ],
   "source": [
    "\"\"\"\n",
    " 'inclParTMDV1_probHWqqWev0c',\n",
    " 'inclParTMDV1_probHWqqWev1c',\n",
    " 'inclParTMDV1_probHWqqWmv0c',\n",
    " 'inclParTMDV1_probHWqqWmv1c',\n",
    " 'inclParTMDV1_probHWqqWq0c',\n",
    " 'inclParTMDV1_probHWqqWq1c',\n",
    " 'inclParTMDV1_probHWqqWq2c',\n",
    " 'inclParTMDV1_probHWqqWqq0c',\n",
    " 'inclParTMDV1_probHWqqWqq1c',\n",
    " 'inclParTMDV1_probHWqqWqq2c',\n",
    " 'inclParTMDV1_probHWqqWtauev0c',\n",
    " 'inclParTMDV1_probHWqqWtauev1c',\n",
    " 'inclParTMDV1_probHWqqWtauhv0c',\n",
    " 'inclParTMDV1_probHWqqWtauhv1c',\n",
    " 'inclParTMDV1_probHWqqWtaumv0c',\n",
    " 'inclParTMDV1_probHWqqWtaumv1c',\n",
    " 'inclParTMDV1_probHbb',\n",
    " 'inclParTMDV1_probHcc',\n",
    " 'inclParTMDV1_probHqq',\n",
    " 'inclParTMDV1_probHss',\n",
    " 'inclParTMDV1_probHtauhtaue',\n",
    " 'inclParTMDV1_probHtauhtauh',\n",
    " 'inclParTMDV1_probHtauhtaum',\n",
    "\"\"\""
   ]
  },
  {
   "cell_type": "code",
   "execution_count": null,
   "metadata": {},
   "outputs": [
    {
     "data": {
      "text/plain": [
       "<Array [0, 1, 1, 1, 1, 1, ... 1, 1, 0, 1, 0, 1] type='1000 * ?int64'>"
      ]
     },
     "execution_count": 3,
     "metadata": {},
     "output_type": "execute_result"
    }
   ],
   "source": [
    "ak.argmax(ak.sum([_events.FatJet[f] for f in _events.FatJet.fields if f.startswith('inclParTMDV1_probH')], axis=0), axis=1)"
   ]
  },
  {
   "cell_type": "code",
   "execution_count": null,
   "metadata": {},
   "outputs": [],
   "source": [
    "c=ak.Array([_events.FatJet[f] for f in _events.FatJet.fields if f.startswith('inclParTMDV1_probH')])"
   ]
  },
  {
   "cell_type": "code",
   "execution_count": null,
   "metadata": {},
   "outputs": [
    {
     "data": {
      "text/plain": [
       "<Array [1, 2, 3, 0] type='4 * int64'>"
      ]
     },
     "execution_count": 42,
     "metadata": {},
     "output_type": "execute_result"
    }
   ],
   "source": [
    "ak.argsort(ak.argsort([1.5,2,3,0]))"
   ]
  },
  {
   "cell_type": "code",
   "execution_count": null,
   "metadata": {},
   "outputs": [
    {
     "data": {
      "text/plain": [
       "array([0.91870999, 1.00662441, 0.98739476, ..., 1.00883794, 1.16807473,\n",
       "       1.02087936])"
      ]
     },
     "execution_count": 26,
     "metadata": {},
     "output_type": "execute_result"
    }
   ],
   "source": [
    "correction.evaluate(np.array(_events.Pileup.nPU), 'nominal')"
   ]
  },
  {
   "cell_type": "code",
   "execution_count": null,
   "metadata": {},
   "outputs": [
    {
     "ename": "TypeError",
     "evalue": "__call__() got an unexpected keyword argument 'entrystart'",
     "output_type": "error",
     "traceback": [
      "\u001b[0;31m---------------------------------------------------------------------------\u001b[0m",
      "\u001b[0;31mTypeError\u001b[0m                                 Traceback (most recent call last)",
      "\u001b[0;32m/tmp/dfu/ipykernel_15763/2700830965.py\u001b[0m in \u001b[0;36m<module>\u001b[0;34m\u001b[0m\n\u001b[1;32m      7\u001b[0m     \u001b[0;31m#maxchunks = 1,\u001b[0m\u001b[0;34m\u001b[0m\u001b[0;34m\u001b[0m\u001b[0;34m\u001b[0m\u001b[0m\n\u001b[1;32m      8\u001b[0m )\n\u001b[0;32m----> 9\u001b[0;31m stats, metrics = run(\n\u001b[0m\u001b[1;32m     10\u001b[0m     \u001b[0mfileset\u001b[0m \u001b[0;34m=\u001b[0m \u001b[0;34m{\u001b[0m\u001b[0;34m'input'\u001b[0m\u001b[0;34m:\u001b[0m \u001b[0;34m[\u001b[0m\u001b[0;34m'/eos/cms/store/data/Run2016B/SinglePhoton/NANOAOD/ver2_HIPM_UL2016_MiniAODv2_NanoAODv9-v2/2430000/0BC6889E-78AB-D54A-9DAC-DD961CED79FE.root'\u001b[0m\u001b[0;34m]\u001b[0m\u001b[0;34m}\u001b[0m\u001b[0;34m,\u001b[0m\u001b[0;34m\u001b[0m\u001b[0;34m\u001b[0m\u001b[0m\n\u001b[1;32m     11\u001b[0m     \u001b[0mtreename\u001b[0m \u001b[0;34m=\u001b[0m \u001b[0;34m'Events'\u001b[0m\u001b[0;34m,\u001b[0m \u001b[0mentrystart\u001b[0m\u001b[0;34m=\u001b[0m\u001b[0;36m783504\u001b[0m\u001b[0;34m,\u001b[0m \u001b[0mentrystop\u001b[0m\u001b[0;34m=\u001b[0m\u001b[0;36m881442\u001b[0m\u001b[0;34m,\u001b[0m\u001b[0;34m\u001b[0m\u001b[0;34m\u001b[0m\u001b[0m\n",
      "\u001b[0;31mTypeError\u001b[0m: __call__() got an unexpected keyword argument 'entrystart'"
     ]
    }
   ],
   "source": [
    "run=processor.Runner(\n",
    "    executor = processor.FuturesExecutor(compression=None, workers=1),\n",
    "    schema = NanoAODSchema,\n",
    "    savemetrics = True,\n",
    "    xrootdtimeout = 60 * 30,\n",
    "    #chunksize = 10,\n",
    "    #maxchunks = 1,\n",
    ")\n",
    "stats, metrics = run(\n",
    "    fileset = {'input': ['/eos/cms/store/data/Run2016B/SinglePhoton/NANOAOD/ver2_HIPM_UL2016_MiniAODv2_NanoAODv9-v2/2430000/0BC6889E-78AB-D54A-9DAC-DD961CED79FE.root']},\n",
    "    treename = 'Events',\n",
    "    processor_instance = Processor(mode='mc_2018_ZpToHG', outdir='./', param_dir='../src/parameters/'),\n",
    ")"
   ]
  },
  {
   "cell_type": "code",
   "execution_count": null,
   "metadata": {},
   "outputs": [],
   "source": [
    "s = _events.GenPart[\n",
    "    (abs(_events.GenPart.pdgId) == 9906663) &\n",
    "    _events.GenPart.hasFlags([\"fromHardProcess\", \"isLastCopy\"])\n",
    "]"
   ]
  },
  {
   "cell_type": "code",
   "execution_count": null,
   "metadata": {},
   "outputs": [],
   "source": [
    "_events = NanoEventsFactory.from_root(\n",
    "    file='root://cms-xrd-global.cern.ch//store/mc/RunIIAutumn18NanoAODv7/ZpToHGamma_M1400_13TeV_TuneCP5_madgraph-pythia8/NANOAODSIM/Nano02Apr2020_102X_upgrade2018_realistic_v21-v1/250000/9FCD7BF6-406A-F34A-9AA9-7790134908D8.root',\n",
    "    treepath='Events', schemaclass=NanoAODSchema\n",
    ").events()"
   ]
  },
  {
   "cell_type": "code",
   "execution_count": null,
   "metadata": {},
   "outputs": [
    {
     "data": {
      "text/plain": [
       "<Array [None, None, None, ... None, None, None] type='456 * option[var * ?float3...'>"
      ]
     },
     "execution_count": 23,
     "metadata": {},
     "output_type": "execute_result"
    }
   ],
   "source": [
    "p.variables['gen_Zp_mass'][~(ak.num(p.variables['gen_Zp_mass'], axis=1)==1)]"
   ]
  },
  {
   "cell_type": "code",
   "execution_count": null,
   "metadata": {},
   "outputs": [],
   "source": [
    "for i in p.variables.keys():\n",
    "    if 'Zp_' in i:\n",
    "        p.variables[i] = ak.flatten(p.variables[i], axis=1)"
   ]
  },
  {
   "cell_type": "code",
   "execution_count": null,
   "metadata": {},
   "outputs": [
    {
     "data": {
      "text/plain": [
       "{'AK8jet_mass': <Array [130, 120, 117, 133, ... 135, 138, 100] type='23185 * ?float32[parameters...'>,\n",
       " 'AK8jet_phi': <Array [-2.75, 0.247, 1.47, ... 1.59, -2.2] type='23185 * ?float32[parameters={\"...'>,\n",
       " 'AK8jet_eta': <Array [-0.317, -1.09, ... -0.987, 0.951] type='23185 * ?float32[parameters={\"__...'>,\n",
       " 'AK8jet_msoftdrop': <Array [124, 120, 114, 132, ... 112, 136, 99.2] type='23185 * ?float32[parameter...'>,\n",
       " 'AK8jet_pt': <Array [690, 494, 596, 718, ... 628, 686, 606] type='23185 * ?float32[parameters...'>,\n",
       " 'photon_phi': <Array [0.361, -2.89, -1.63, ... -1.54, 1.48] type='23185 * ?float32[parameters=...'>,\n",
       " 'photon_mass': <Array [0, 0, 0, 0, 0, 0, ... 0, 0, 0, 0, 0, 0] type='23185 * ?float32'>,\n",
       " 'photon_pt': <Array [681, 611, 670, 624, ... 653, 691, 326] type='23185 * ?float32[parameters...'>,\n",
       " 'photon_eta': <Array [-0.178, -0.185, ... -0.653, -0.839] type='23185 * ?float32[parameters={\"...'>,\n",
       " 'event_MET_pt': <Array [16.4, 46.9, 134, ... 120, 15.6, 186] type='23185 * ?float32[parameters={...'>,\n",
       " 'event_genWeight': <Array [1, 1, 1, 1, 1, 1, ... 1, 1, 1, 1, 1, 1] type='23185 * ?float32[parameter...'>,\n",
       " 'photon-jet_phi': <Array [-1.54, -2.86, -1.28, ... -0.405, -2.67] type='23185 * ?float32'>,\n",
       " 'photon-jet_mass': <Array [1.39e+03, 1.22e+03, ... 1.25e+03] type='23185 * ?float32'>,\n",
       " 'photon-jet_pt': <Array [25.1, 117, 79, ... 39.4, 10.7, 365] type='23185 * ?float32'>,\n",
       " 'photon-jet_eta': <Array [-3.31, -2.58, -2.09, ... -5.47, 0.87] type='23185 * ?float32'>,\n",
       " 'photon-jet_deltaR': <Array [3.11, 3.26, 3.11, ... 3.11, 3.15, 3.16] type='23185 * ?float32'>,\n",
       " 'gen_Zp_pdgId': <Array [9906663, 9906663, ... 9906663, 9906663] type='22729 * ?int32[parameters=...'>,\n",
       " 'gen_Zp_mass': <Array [1.4e+03, 1.4e+03, ... 1.4e+03, 1.4e+03] type='22729 * ?float32[parameter...'>,\n",
       " 'gen_Zp_phi': <Array [-2, 0.117, 0.848, ... -0.289, -2.55] type='22729 * ?float32[parameters={...'>,\n",
       " 'gen_Zp_eta': <Array [-3.12, -5.22, -2.54, ... -6.09, 0.898] type='22729 * ?float32[parameters...'>,\n",
       " 'gen_Zp_pt': <Array [31.2, 10.5, 56.4, ... 72, 5.78, 512] type='22729 * ?float32[parameters={...'>,\n",
       " 'gen_ZpToHGamma': array([ True,  True,  True, ...,  True,  True,  True]),\n",
       " 'gen_ZpToH(WW)Gamma': array([False, False,  True, ..., False,  True, False]),\n",
       " 'gen_ZpToH(bb)Gamma': array([ True,  True, False, ...,  True, False, False]),\n",
       " 'gen_ZpToH(ZZ)Gamma': array([False, False, False, ..., False, False, False]),\n",
       " 'gen_ZpToH(tautau)Gamma': array([False, False, False, ..., False, False,  True]),\n",
       " 'gen_ZpToH(gammagamma)Gamma': array([False, False, False, ..., False, False, False]),\n",
       " 'gen_HWW_decay_mode': <Array [None, None, 20, 32, ... None, 32, None] type='23185 * ?int64'>}"
      ]
     },
     "execution_count": 11,
     "metadata": {},
     "output_type": "execute_result"
    }
   ],
   "source": [
    "p.variables"
   ]
  },
  {
   "cell_type": "code",
   "execution_count": null,
   "metadata": {},
   "outputs": [],
   "source": [
    "t = ak.Array(p.variables)"
   ]
  },
  {
   "cell_type": "code",
   "execution_count": null,
   "metadata": {},
   "outputs": [
    {
     "data": {
      "text/plain": [
       "<Array [[True, True], [True, ... [], [True]] type='1854856 * var * bool[paramete...'>"
      ]
     },
     "execution_count": 23,
     "metadata": {},
     "output_type": "execute_result"
    }
   ],
   "source": [
    "_events.Photon.electronVeto"
   ]
  },
  {
   "cell_type": "code",
   "execution_count": null,
   "metadata": {},
   "outputs": [],
   "source": []
  }
 ],
 "metadata": {
  "kernelspec": {
   "display_name": "Python 3.9.6 64-bit",
   "language": "python",
   "name": "python3"
  },
  "language_info": {
   "codemirror_mode": {
    "name": "ipython",
    "version": 3
   },
   "file_extension": ".py",
   "mimetype": "text/x-python",
   "name": "python",
   "nbconvert_exporter": "python",
   "pygments_lexer": "ipython3",
   "version": "3.9.16"
  },
  "orig_nbformat": 4,
  "vscode": {
   "interpreter": {
    "hash": "bc8653c37afde981a02f518cc5ed66e36d68f5e1c41895fdf66da08341e86c45"
   }
  }
 },
 "nbformat": 4,
 "nbformat_minor": 2
}
