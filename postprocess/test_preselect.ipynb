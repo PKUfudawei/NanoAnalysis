{
 "cells": [
  {
   "cell_type": "markdown",
   "metadata": {},
   "source": [
    "# Prepare"
   ]
  },
  {
   "cell_type": "code",
   "execution_count": null,
   "metadata": {},
   "outputs": [],
   "source": [
    "import awkward as ak\n",
    "import numpy as np\n",
    "import os, json, time, uproot, yaml, correctionlib\n",
    "\n",
    "from coffea import processor, lumi_tools\n",
    "from coffea.nanoevents import NanoEventsFactory, NanoAODSchema\n",
    "from coffea.nanoevents.methods.nanoaod import FatJetArray\n",
    "from coffea.analysis_tools import PackedSelection\n",
    "from coffea.lookup_tools import extractor\n",
    "from coffea.jetmet_tools import JECStack, CorrectedJetsFactory, CorrectedMETFactory\n",
    "\n",
    "import sys\n",
    "sys.path.append(\"..\")\n",
    "from src.processors.Processor import Processor\n",
    "from src.processors.TriggerProcessor import TriggerProcessor\n",
    "from src.processors.GenMatch import GenMatch\n",
    "os.chdir(os.path.join(os.getcwd(), 'postprocess'))\n",
    "#import importlib\n",
    "#importlib.reload(Processor)"
   ]
  },
  {
   "cell_type": "markdown",
   "metadata": {},
   "source": [
    "## Correction"
   ]
  },
  {
   "cell_type": "code",
   "execution_count": null,
   "metadata": {},
   "outputs": [],
   "source": [
    "import awkward as ak\n",
    "from coffea.nanoevents import NanoEventsFactory, NanoAODSchema\n",
    "from coffea.lookup_tools import extractor\n",
    "\n",
    "fname = \"~/nano_dy.root\"\n",
    "events = NanoEventsFactory.from_root(\n",
    "    {fname: 'Events'},\n",
    "    schemaclass=NanoAODSchema,\n",
    "    metadata={\"dataset\": \"DYJets\"}, delayed=False\n",
    ").events()"
   ]
  },
  {
   "cell_type": "code",
   "execution_count": null,
   "metadata": {},
   "outputs": [],
   "source": [
    "#%%bash\n",
    "# download some sample correction sources\n",
    "mkdir -p data\n",
    "pushd data\n",
    "PREFIX=https://raw.githubusercontent.com/CoffeaTeam/coffea/master/tests/samples\n",
    "curl -Os $PREFIX/testSF2d.histo.root\n",
    "curl -Os $PREFIX/Fall17_17Nov2017_V32_MC_L2Relative_AK4PFPuppi.jec.txt\n",
    "curl -Os $PREFIX/Fall17_17Nov2017_V32_MC_Uncertainty_AK4PFPuppi.junc.txt\n",
    "curl -Os $PREFIX/DeepCSV_102XSF_V1.btag.csv.gz\n",
    "popd"
   ]
  },
  {
   "cell_type": "code",
   "execution_count": null,
   "metadata": {},
   "outputs": [],
   "source": [
    "ext = extractor()\n",
    "# several histograms can be imported at once using wildcards (*)\n",
    "ext.add_weight_sets([\"testSF2d scalefactors_Tight_Electron data/testSF2d.histo.root\"])\n",
    "ext.finalize()\n",
    "\n",
    "evaluator = ext.make_evaluator()\n",
    "\n",
    "print(\"available evaluator keys:\")\n",
    "for key in evaluator.keys():\n",
    "    print(\"\\t\", key)\n",
    "print(\"testSF2d:\", evaluator['testSF2d'])\n",
    "print(\"type of testSF2d:\", type(evaluator['testSF2d']))"
   ]
  },
  {
   "cell_type": "code",
   "execution_count": null,
   "metadata": {},
   "outputs": [],
   "source": [
    "print(\"Electron eta:\", events.Electron.eta)\n",
    "print(\"Electron pt:\", events.Electron.pt)\n",
    "print(\"Scale factor:\", evaluator[\"testSF2d\"](events.Electron.eta, events.Electron.pt))"
   ]
  },
  {
   "cell_type": "markdown",
   "metadata": {},
   "source": [
    "## CMS high-level tools"
   ]
  },
  {
   "cell_type": "code",
   "execution_count": null,
   "metadata": {},
   "outputs": [],
   "source": [
    "from coffea.jetmet_tools import FactorizedJetCorrector, JetCorrectionUncertainty\n",
    "from coffea.jetmet_tools import JECStack, CorrectedJetsFactory\n",
    "import awkward as ak\n",
    "import numpy as np\n",
    "\n",
    "ext = extractor()\n",
    "ext.add_weight_sets([\n",
    "    \"* * data/Fall17_17Nov2017_V32_MC_L2Relative_AK4PFPuppi.jec.txt\",\n",
    "    \"* * data/Fall17_17Nov2017_V32_MC_Uncertainty_AK4PFPuppi.junc.txt\",\n",
    "])\n",
    "ext.finalize()\n",
    "\n",
    "jec_stack_names = [\n",
    "    \"Fall17_17Nov2017_V32_MC_L2Relative_AK4PFPuppi\",\n",
    "    \"Fall17_17Nov2017_V32_MC_Uncertainty_AK4PFPuppi\"\n",
    "]\n",
    "\n",
    "evaluator = ext.make_evaluator()\n",
    "\n",
    "jec_inputs = {name: evaluator[name] for name in jec_stack_names}\n",
    "jec_stack = JECStack(jec_inputs)\n",
    "### more possibilities are available if you send in more pieces of the JEC stack\n",
    "# mc2016_ak8_jxform = JECStack([\"more\", \"names\", \"of\", \"JEC parts\"])\n",
    "\n",
    "print(dir(evaluator))"
   ]
  },
  {
   "cell_type": "code",
   "execution_count": null,
   "metadata": {},
   "outputs": [],
   "source": [
    "[i for i in corrected_jets.fields if i.startswith(\"JES\") or i.startswith(\"JER\")]"
   ]
  },
  {
   "cell_type": "code",
   "execution_count": null,
   "metadata": {},
   "outputs": [],
   "source": [
    "print('untransformed pt ratios', jets.pt/jets.pt_raw)\n",
    "print('untransformed mass ratios', jets.mass/jets.mass_raw)\n",
    "\n",
    "print('transformed pt ratios', corrected_jets.pt/corrected_jets.pt_raw)\n",
    "print('transformed mass ratios', corrected_jets.mass/corrected_jets.mass_raw)\n",
    "\n",
    "print('JES UP pt ratio', corrected_jets.JES_jes.up.pt/corrected_jets.pt_raw)\n",
    "print('JES DOWN pt ratio', corrected_jets.JES_jes.down.pt/corrected_jets.pt_raw)"
   ]
  },
  {
   "attachments": {},
   "cell_type": "markdown",
   "metadata": {},
   "source": [
    "# Batch test"
   ]
  },
  {
   "cell_type": "code",
   "execution_count": null,
   "metadata": {},
   "outputs": [],
   "source": [
    "uproot.open.defaults[\"xrootd_handler\"] = uproot.MultithreadedXRootDSource\n",
    "_events = NanoEventsFactory.from_root(\n",
    "    {'~/ZpToHG_M-1000.root': 'Events'},\n",
    "    #{'~/custom_nano.root': 'Events'},\n",
    "    #{'/data/bond/fudawei/public/customizedNanoAOD/output/mc/2017/TTJets/TTJets/2339.root': 'Events'},\n",
    "    #{'/data/bond/fudawei/public/customizedNanoAOD/output/mc/2017/ZpToHG/ZpToHGamma_M1000/14.root': 'Events'},\n",
    "    schemaclass=NanoAODSchema, delayed=False,\n",
    ").events()\n",
    "p=Processor(outdir='./test/', mode='mc_2018_ZpToHG', param_dir='../src/parameters/')\n",
    "c=p.process(_events)"
   ]
  },
  {
   "cell_type": "code",
   "execution_count": 8,
   "metadata": {},
   "outputs": [],
   "source": [
    "a=correctionlib.CorrectionSet.from_file('../src/parameters/nlo_kfactor.json')"
   ]
  },
  {
   "cell_type": "code",
   "execution_count": null,
   "metadata": {},
   "outputs": [],
   "source": [
    "a['gjets_nlo_kfactor_qcd'].evaluate(_events.FatJet.pt)"
   ]
  },
  {
   "cell_type": "code",
   "execution_count": null,
   "metadata": {},
   "outputs": [],
   "source": [
    "list(a.keys())"
   ]
  },
  {
   "cell_type": "code",
   "execution_count": null,
   "metadata": {},
   "outputs": [],
   "source": [
    "import awkward as ak\n",
    "import numpy as np\n",
    "import os, json, time, uproot, yaml, correctionlib\n",
    "\n",
    "from coffea import processor, lumi_tools\n",
    "from coffea.nanoevents import NanoEventsFactory, NanoAODSchema\n",
    "from coffea.nanoevents.methods.nanoaod import FatJetArray\n",
    "from coffea.analysis_tools import PackedSelection\n",
    "from coffea.lookup_tools import extractor\n",
    "from coffea.jetmet_tools import JECStack, CorrectedJetsFactory, CorrectedMETFactory\n",
    "\n",
    "\n",
    "_events = NanoEventsFactory.from_root(\n",
    "    #{'/data/bond/fudawei/public/customizedNanoAOD/output/mc/2017/GJets/GJets_HT-600ToInf/209.root': 'Events'},\n",
    "    {'~/custom_nano.root': 'Events'},\n",
    "    #{'/data/bond/fudawei/public/customizedNanoAOD/output/mc/2017/TTJets/TTJets/2339.root': 'Events'},\n",
    "    #{'/data/bond/fudawei/public/customizedNanoAOD/output/mc/2017/ZpToHG/ZpToHGamma_M1000/14.root': 'Events'},\n",
    "    schemaclass=NanoAODSchema, delayed=False,\n",
    ").events()\n",
    "\n",
    "AK8jet = _events.FatJet\n",
    "\n",
    "extract = extractor()\n",
    "uncertainty_dir = os.path.join('src/parameters', 'uncertainty', '2018')\n",
    "for f in os.listdir(uncertainty_dir):\n",
    "    if 'AK8' not in f or 'UncertaintySources' in f:\n",
    "        continue\n",
    "    extract.add_weight_sets([f'* * {os.path.join(uncertainty_dir, f)}'])\n",
    "\n",
    "extract.finalize()\n",
    "evaluator = extract.make_evaluator()\n",
    "\n",
    "jec_names = dir(evaluator)\n",
    "jec_inputs = {name: evaluator[name] for name in jec_names}\n",
    "jec_stack = JECStack(jec_inputs)\n",
    "name_map = jec_stack.blank_name_map\n",
    "name_map['JetPt'] = 'pt'\n",
    "name_map['JetMass'] = 'mass'\n",
    "name_map['JetEta'] = 'eta'\n",
    "name_map['JetPhi'] = 'phi'\n",
    "name_map['JetA'] = 'area'\n",
    "name_map['ptGenJet'] = 'pt_gen'\n",
    "name_map['ptRaw'] = 'pt_raw'\n",
    "name_map['massRaw'] = 'mass_raw'\n",
    "name_map['Rho'] = 'PU_rho'\n",
    "\n",
    "AK8jet['pt_original'] = AK8jet.pt\n",
    "AK8jet['is_real'] = (~np.isnan(ak.fill_none(AK8jet.matched_gen.pt, np.nan)))*1\n",
    "AK8jet[\"pt_raw\"] = (1 - AK8jet.rawFactor) * AK8jet.pt\n",
    "AK8jet[\"mass_raw\"] = (1 - AK8jet.rawFactor) * AK8jet.mass\n",
    "AK8jet[\"pt_gen\"] = ak.values_astype(ak.fill_none(AK8jet.matched_gen.pt, 0), np.float32)\n",
    "AK8jet[\"PU_rho\"] = ak.broadcast_arrays(_events.fixedGridRhoFastjetAll, AK8jet.pt)[0]\n",
    "corrected_AK8jet = CorrectedJetsFactory(name_map, jec_stack).build(AK8jet).compute()\n",
    "AK8jet[\"pt_nominal\"] = corrected_AK8jet[\"pt\"]\n",
    "AK8jet[\"mass_nominal\"] = corrected_AK8jet[\"mass\"]\n",
    "\n",
    "AK8jet_corrections = set()\n",
    "for i in corrected_AK8jet.fields:\n",
    "    if i.startswith(\"JES\") or i.startswith(\"JER\"):\n",
    "        AK8jet_corrections.add(i)\n",
    "        AK8jet[f\"pt_{i}_up\"] = corrected_AK8jet[i].up.pt\n",
    "        AK8jet[f\"pt_{i}_down\"] = corrected_AK8jet[i].down.pt\n",
    "        AK8jet[f\"mass_{i}_up\"] = corrected_AK8jet[i].up.mass\n",
    "        AK8jet[f\"mass_{i}_down\"] = corrected_AK8jet[i].down.mass"
   ]
  },
  {
   "cell_type": "code",
   "execution_count": null,
   "metadata": {},
   "outputs": [],
   "source": [
    "_events.FatJet.pt - AK8jet['pt']"
   ]
  },
  {
   "cell_type": "code",
   "execution_count": null,
   "metadata": {},
   "outputs": [],
   "source": []
  }
 ],
 "metadata": {
  "kernelspec": {
   "display_name": "base",
   "language": "python",
   "name": "python3"
  },
  "language_info": {
   "codemirror_mode": {
    "name": "ipython",
    "version": 3
   },
   "file_extension": ".py",
   "mimetype": "text/x-python",
   "name": "python",
   "nbconvert_exporter": "python",
   "pygments_lexer": "ipython3",
   "version": "3.12.7"
  },
  "orig_nbformat": 4
 },
 "nbformat": 4,
 "nbformat_minor": 2
}
